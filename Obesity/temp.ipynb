{
 "cells": [
  {
   "cell_type": "code",
   "execution_count": 40,
   "metadata": {},
   "outputs": [],
   "source": [
    "import numpy as np\n",
    "import pandas as pd\n"
   ]
  },
  {
   "cell_type": "code",
   "execution_count": 42,
   "metadata": {},
   "outputs": [
    {
     "data": {
      "text/html": [
       "<div>\n",
       "<style scoped>\n",
       "    .dataframe tbody tr th:only-of-type {\n",
       "        vertical-align: middle;\n",
       "    }\n",
       "\n",
       "    .dataframe tbody tr th {\n",
       "        vertical-align: top;\n",
       "    }\n",
       "\n",
       "    .dataframe thead th {\n",
       "        text-align: right;\n",
       "    }\n",
       "</style>\n",
       "<table border=\"1\" class=\"dataframe\">\n",
       "  <thead>\n",
       "    <tr style=\"text-align: right;\">\n",
       "      <th></th>\n",
       "      <th>Date</th>\n",
       "      <th>Rainfall(inch)</th>\n",
       "      <th>Temperature(0.9m)</th>\n",
       "      <th>Temperature(1.8m)</th>\n",
       "      <th>Air Temp F</th>\n",
       "      <th>Air Temp C</th>\n",
       "    </tr>\n",
       "  </thead>\n",
       "  <tbody>\n",
       "    <tr>\n",
       "      <th>0</th>\n",
       "      <td>10/3/2016</td>\n",
       "      <td>0.00</td>\n",
       "      <td>25.567</td>\n",
       "      <td>26.171</td>\n",
       "      <td>75.9</td>\n",
       "      <td>24.388889</td>\n",
       "    </tr>\n",
       "    <tr>\n",
       "      <th>1</th>\n",
       "      <td>10/4/2016</td>\n",
       "      <td>0.00</td>\n",
       "      <td>25.713</td>\n",
       "      <td>26.100</td>\n",
       "      <td>78.6</td>\n",
       "      <td>25.888889</td>\n",
       "    </tr>\n",
       "    <tr>\n",
       "      <th>2</th>\n",
       "      <td>10/5/2016</td>\n",
       "      <td>0.06</td>\n",
       "      <td>25.946</td>\n",
       "      <td>26.100</td>\n",
       "      <td>82.6</td>\n",
       "      <td>28.111111</td>\n",
       "    </tr>\n",
       "    <tr>\n",
       "      <th>3</th>\n",
       "      <td>10/6/2016</td>\n",
       "      <td>0.39</td>\n",
       "      <td>26.446</td>\n",
       "      <td>26.158</td>\n",
       "      <td>82.8</td>\n",
       "      <td>28.222222</td>\n",
       "    </tr>\n",
       "    <tr>\n",
       "      <th>4</th>\n",
       "      <td>10/7/2016</td>\n",
       "      <td>0.00</td>\n",
       "      <td>26.663</td>\n",
       "      <td>26.300</td>\n",
       "      <td>72.3</td>\n",
       "      <td>22.388889</td>\n",
       "    </tr>\n",
       "  </tbody>\n",
       "</table>\n",
       "</div>"
      ],
      "text/plain": [
       "        Date  Rainfall(inch)  Temperature(0.9m)  Temperature(1.8m)  \\\n",
       "0  10/3/2016            0.00             25.567             26.171   \n",
       "1  10/4/2016            0.00             25.713             26.100   \n",
       "2  10/5/2016            0.06             25.946             26.100   \n",
       "3  10/6/2016            0.39             26.446             26.158   \n",
       "4  10/7/2016            0.00             26.663             26.300   \n",
       "\n",
       "   Air Temp F  Air Temp C  \n",
       "0        75.9   24.388889  \n",
       "1        78.6   25.888889  \n",
       "2        82.6   28.111111  \n",
       "3        82.8   28.222222  \n",
       "4        72.3   22.388889  "
      ]
     },
     "execution_count": 42,
     "metadata": {},
     "output_type": "execute_result"
    }
   ],
   "source": [
    "df=pd.read_csv(\"Temp Plot(2).csv\",header=0)\n",
    "df.head()"
   ]
  },
  {
   "cell_type": "code",
   "execution_count": 43,
   "metadata": {},
   "outputs": [
    {
     "data": {
      "text/plain": [
       "(1165, 6)"
      ]
     },
     "execution_count": 43,
     "metadata": {},
     "output_type": "execute_result"
    }
   ],
   "source": [
    "df.shape"
   ]
  },
  {
   "cell_type": "code",
   "execution_count": 44,
   "metadata": {},
   "outputs": [
    {
     "data": {
      "text/plain": [
       "Date                   0\n",
       "Rainfall(inch)         1\n",
       "Temperature(0.9m)     12\n",
       "Temperature(1.8m)    353\n",
       "Air Temp F            11\n",
       "Air Temp C            11\n",
       "dtype: int64"
      ]
     },
     "execution_count": 44,
     "metadata": {},
     "output_type": "execute_result"
    }
   ],
   "source": [
    "df.isnull().sum()"
   ]
  },
  {
   "cell_type": "code",
   "execution_count": null,
   "metadata": {},
   "outputs": [],
   "source": []
  }
 ],
 "metadata": {
  "kernelspec": {
   "display_name": "Python 3",
   "language": "python",
   "name": "python3"
  },
  "language_info": {
   "codemirror_mode": {
    "name": "ipython",
    "version": 3
   },
   "file_extension": ".py",
   "mimetype": "text/x-python",
   "name": "python",
   "nbconvert_exporter": "python",
   "pygments_lexer": "ipython3",
   "version": "3.12.0"
  }
 },
 "nbformat": 4,
 "nbformat_minor": 2
}
