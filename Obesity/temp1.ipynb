{
  "cells": [
    {
      "cell_type": "code",
      "execution_count": 2,
      "metadata": {
        "id": "LPqn1WGDHpU2"
      },
      "outputs": [],
      "source": [
        "import pandas as pd\n",
        "import numpy as np\n",
        "import matplotlib.pyplot as plt\n",
        "import seaborn as sns\n",
        "import warnings\n",
        "warnings.filterwarnings('ignore')"
      ]
    },
    {
      "cell_type": "code",
      "execution_count": 3,
      "metadata": {
        "id": "lTULCT-gHpU5"
      },
      "outputs": [],
      "source": [
        "# Load your dataset\n",
        "data = pd.read_csv('Temp Plot(2).csv')"
      ]
    },
    {
      "cell_type": "code",
      "execution_count": 4,
      "metadata": {
        "colab": {
          "base_uri": "https://localhost:8080/",
          "height": 206
        },
        "id": "xevQKArPHpU5",
        "outputId": "f89b34a8-6849-4267-9954-89dddf5ece00"
      },
      "outputs": [
        {
          "data": {
            "text/html": [
              "<div>\n",
              "<style scoped>\n",
              "    .dataframe tbody tr th:only-of-type {\n",
              "        vertical-align: middle;\n",
              "    }\n",
              "\n",
              "    .dataframe tbody tr th {\n",
              "        vertical-align: top;\n",
              "    }\n",
              "\n",
              "    .dataframe thead th {\n",
              "        text-align: right;\n",
              "    }\n",
              "</style>\n",
              "<table border=\"1\" class=\"dataframe\">\n",
              "  <thead>\n",
              "    <tr style=\"text-align: right;\">\n",
              "      <th></th>\n",
              "      <th>Date</th>\n",
              "      <th>Rainfall(inch)</th>\n",
              "      <th>Temperature(0.9m)</th>\n",
              "      <th>Temperature(1.8m)</th>\n",
              "      <th>Air Temp F</th>\n",
              "      <th>Air Temp C</th>\n",
              "    </tr>\n",
              "  </thead>\n",
              "  <tbody>\n",
              "    <tr>\n",
              "      <th>0</th>\n",
              "      <td>10/3/2016</td>\n",
              "      <td>0.00</td>\n",
              "      <td>25.567</td>\n",
              "      <td>26.171</td>\n",
              "      <td>75.9</td>\n",
              "      <td>24.388889</td>\n",
              "    </tr>\n",
              "    <tr>\n",
              "      <th>1</th>\n",
              "      <td>10/4/2016</td>\n",
              "      <td>0.00</td>\n",
              "      <td>25.713</td>\n",
              "      <td>26.100</td>\n",
              "      <td>78.6</td>\n",
              "      <td>25.888889</td>\n",
              "    </tr>\n",
              "    <tr>\n",
              "      <th>2</th>\n",
              "      <td>10/5/2016</td>\n",
              "      <td>0.06</td>\n",
              "      <td>25.946</td>\n",
              "      <td>26.100</td>\n",
              "      <td>82.6</td>\n",
              "      <td>28.111111</td>\n",
              "    </tr>\n",
              "    <tr>\n",
              "      <th>3</th>\n",
              "      <td>10/6/2016</td>\n",
              "      <td>0.39</td>\n",
              "      <td>26.446</td>\n",
              "      <td>26.158</td>\n",
              "      <td>82.8</td>\n",
              "      <td>28.222222</td>\n",
              "    </tr>\n",
              "    <tr>\n",
              "      <th>4</th>\n",
              "      <td>10/7/2016</td>\n",
              "      <td>0.00</td>\n",
              "      <td>26.663</td>\n",
              "      <td>26.300</td>\n",
              "      <td>72.3</td>\n",
              "      <td>22.388889</td>\n",
              "    </tr>\n",
              "  </tbody>\n",
              "</table>\n",
              "</div>"
            ],
            "text/plain": [
              "        Date  Rainfall(inch)  Temperature(0.9m)  Temperature(1.8m)  \\\n",
              "0  10/3/2016            0.00             25.567             26.171   \n",
              "1  10/4/2016            0.00             25.713             26.100   \n",
              "2  10/5/2016            0.06             25.946             26.100   \n",
              "3  10/6/2016            0.39             26.446             26.158   \n",
              "4  10/7/2016            0.00             26.663             26.300   \n",
              "\n",
              "   Air Temp F  Air Temp C  \n",
              "0        75.9   24.388889  \n",
              "1        78.6   25.888889  \n",
              "2        82.6   28.111111  \n",
              "3        82.8   28.222222  \n",
              "4        72.3   22.388889  "
            ]
          },
          "execution_count": 4,
          "metadata": {},
          "output_type": "execute_result"
        }
      ],
      "source": [
        "data.head()"
      ]
    },
    {
      "cell_type": "code",
      "execution_count": 5,
      "metadata": {
        "colab": {
          "base_uri": "https://localhost:8080/",
          "height": 206
        },
        "id": "Uae2hCoCHpU6",
        "outputId": "c3f427f7-22d1-4c30-9ee1-36747f4e13af"
      },
      "outputs": [
        {
          "data": {
            "text/html": [
              "<div>\n",
              "<style scoped>\n",
              "    .dataframe tbody tr th:only-of-type {\n",
              "        vertical-align: middle;\n",
              "    }\n",
              "\n",
              "    .dataframe tbody tr th {\n",
              "        vertical-align: top;\n",
              "    }\n",
              "\n",
              "    .dataframe thead th {\n",
              "        text-align: right;\n",
              "    }\n",
              "</style>\n",
              "<table border=\"1\" class=\"dataframe\">\n",
              "  <thead>\n",
              "    <tr style=\"text-align: right;\">\n",
              "      <th></th>\n",
              "      <th>Date</th>\n",
              "      <th>Rainfall(inch)</th>\n",
              "      <th>Temperature(0.9m)</th>\n",
              "      <th>Temperature(1.8m)</th>\n",
              "      <th>Air Temp F</th>\n",
              "      <th>Air Temp C</th>\n",
              "    </tr>\n",
              "  </thead>\n",
              "  <tbody>\n",
              "    <tr>\n",
              "      <th>1160</th>\n",
              "      <td>12/7/2019</td>\n",
              "      <td>0.00</td>\n",
              "      <td>15.429</td>\n",
              "      <td>16.700</td>\n",
              "      <td>NaN</td>\n",
              "      <td>NaN</td>\n",
              "    </tr>\n",
              "    <tr>\n",
              "      <th>1161</th>\n",
              "      <td>12/8/2019</td>\n",
              "      <td>0.00</td>\n",
              "      <td>15.346</td>\n",
              "      <td>16.700</td>\n",
              "      <td>NaN</td>\n",
              "      <td>NaN</td>\n",
              "    </tr>\n",
              "    <tr>\n",
              "      <th>1162</th>\n",
              "      <td>12/9/2019</td>\n",
              "      <td>0.32</td>\n",
              "      <td>15.329</td>\n",
              "      <td>16.625</td>\n",
              "      <td>NaN</td>\n",
              "      <td>NaN</td>\n",
              "    </tr>\n",
              "    <tr>\n",
              "      <th>1163</th>\n",
              "      <td>12/10/2019</td>\n",
              "      <td>0.00</td>\n",
              "      <td>15.558</td>\n",
              "      <td>16.650</td>\n",
              "      <td>NaN</td>\n",
              "      <td>NaN</td>\n",
              "    </tr>\n",
              "    <tr>\n",
              "      <th>1164</th>\n",
              "      <td>12/11/2019</td>\n",
              "      <td>NaN</td>\n",
              "      <td>15.331</td>\n",
              "      <td>16.694</td>\n",
              "      <td>NaN</td>\n",
              "      <td>NaN</td>\n",
              "    </tr>\n",
              "  </tbody>\n",
              "</table>\n",
              "</div>"
            ],
            "text/plain": [
              "            Date  Rainfall(inch)  Temperature(0.9m)  Temperature(1.8m)  \\\n",
              "1160   12/7/2019            0.00             15.429             16.700   \n",
              "1161   12/8/2019            0.00             15.346             16.700   \n",
              "1162   12/9/2019            0.32             15.329             16.625   \n",
              "1163  12/10/2019            0.00             15.558             16.650   \n",
              "1164  12/11/2019             NaN             15.331             16.694   \n",
              "\n",
              "      Air Temp F  Air Temp C  \n",
              "1160         NaN         NaN  \n",
              "1161         NaN         NaN  \n",
              "1162         NaN         NaN  \n",
              "1163         NaN         NaN  \n",
              "1164         NaN         NaN  "
            ]
          },
          "execution_count": 5,
          "metadata": {},
          "output_type": "execute_result"
        }
      ],
      "source": [
        "data.tail()"
      ]
    },
    {
      "cell_type": "code",
      "execution_count": 6,
      "metadata": {
        "colab": {
          "base_uri": "https://localhost:8080/"
        },
        "id": "PGoOkRuXHpU7",
        "outputId": "f6887a8b-8243-449c-92b9-723eebafc433"
      },
      "outputs": [
        {
          "data": {
            "text/plain": [
              "(1165, 6)"
            ]
          },
          "execution_count": 6,
          "metadata": {},
          "output_type": "execute_result"
        }
      ],
      "source": [
        "data.shape"
      ]
    },
    {
      "cell_type": "code",
      "execution_count": 7,
      "metadata": {
        "colab": {
          "base_uri": "https://localhost:8080/"
        },
        "id": "m9iJLgLDHpU7",
        "outputId": "da2fd867-5108-4b93-c34f-722503d36fed"
      },
      "outputs": [
        {
          "name": "stdout",
          "output_type": "stream",
          "text": [
            "<class 'pandas.core.frame.DataFrame'>\n",
            "RangeIndex: 1165 entries, 0 to 1164\n",
            "Data columns (total 6 columns):\n",
            " #   Column             Non-Null Count  Dtype  \n",
            "---  ------             --------------  -----  \n",
            " 0   Date               1165 non-null   object \n",
            " 1   Rainfall(inch)     1164 non-null   float64\n",
            " 2   Temperature(0.9m)  1153 non-null   float64\n",
            " 3   Temperature(1.8m)  812 non-null    float64\n",
            " 4   Air Temp F         1154 non-null   float64\n",
            " 5   Air Temp C         1154 non-null   float64\n",
            "dtypes: float64(5), object(1)\n",
            "memory usage: 54.7+ KB\n"
          ]
        }
      ],
      "source": [
        "data.info()"
      ]
    },
    {
      "cell_type": "code",
      "execution_count": 8,
      "metadata": {
        "colab": {
          "base_uri": "https://localhost:8080/",
          "height": 300
        },
        "id": "U3g0I6lhHpU7",
        "outputId": "43f36c61-1013-4aa6-82f2-dec313fba933"
      },
      "outputs": [
        {
          "data": {
            "text/html": [
              "<div>\n",
              "<style scoped>\n",
              "    .dataframe tbody tr th:only-of-type {\n",
              "        vertical-align: middle;\n",
              "    }\n",
              "\n",
              "    .dataframe tbody tr th {\n",
              "        vertical-align: top;\n",
              "    }\n",
              "\n",
              "    .dataframe thead th {\n",
              "        text-align: right;\n",
              "    }\n",
              "</style>\n",
              "<table border=\"1\" class=\"dataframe\">\n",
              "  <thead>\n",
              "    <tr style=\"text-align: right;\">\n",
              "      <th></th>\n",
              "      <th>Rainfall(inch)</th>\n",
              "      <th>Temperature(0.9m)</th>\n",
              "      <th>Temperature(1.8m)</th>\n",
              "      <th>Air Temp F</th>\n",
              "      <th>Air Temp C</th>\n",
              "    </tr>\n",
              "  </thead>\n",
              "  <tbody>\n",
              "    <tr>\n",
              "      <th>count</th>\n",
              "      <td>1164.000000</td>\n",
              "      <td>1153.000000</td>\n",
              "      <td>812.000000</td>\n",
              "      <td>1154.000000</td>\n",
              "      <td>1154.000000</td>\n",
              "    </tr>\n",
              "    <tr>\n",
              "      <th>mean</th>\n",
              "      <td>0.071375</td>\n",
              "      <td>20.592140</td>\n",
              "      <td>21.291655</td>\n",
              "      <td>68.545061</td>\n",
              "      <td>20.302811</td>\n",
              "    </tr>\n",
              "    <tr>\n",
              "      <th>std</th>\n",
              "      <td>0.252763</td>\n",
              "      <td>5.890783</td>\n",
              "      <td>4.989298</td>\n",
              "      <td>15.818195</td>\n",
              "      <td>8.787886</td>\n",
              "    </tr>\n",
              "    <tr>\n",
              "      <th>min</th>\n",
              "      <td>0.000000</td>\n",
              "      <td>8.504000</td>\n",
              "      <td>11.200000</td>\n",
              "      <td>23.200000</td>\n",
              "      <td>-4.888889</td>\n",
              "    </tr>\n",
              "    <tr>\n",
              "      <th>25%</th>\n",
              "      <td>0.000000</td>\n",
              "      <td>15.467000</td>\n",
              "      <td>17.126750</td>\n",
              "      <td>56.625000</td>\n",
              "      <td>13.680556</td>\n",
              "    </tr>\n",
              "    <tr>\n",
              "      <th>50%</th>\n",
              "      <td>0.000000</td>\n",
              "      <td>20.271000</td>\n",
              "      <td>20.635500</td>\n",
              "      <td>70.450000</td>\n",
              "      <td>21.361111</td>\n",
              "    </tr>\n",
              "    <tr>\n",
              "      <th>75%</th>\n",
              "      <td>0.000000</td>\n",
              "      <td>25.983000</td>\n",
              "      <td>25.717750</td>\n",
              "      <td>82.400000</td>\n",
              "      <td>28.000000</td>\n",
              "    </tr>\n",
              "    <tr>\n",
              "      <th>max</th>\n",
              "      <td>4.140000</td>\n",
              "      <td>30.808000</td>\n",
              "      <td>29.700000</td>\n",
              "      <td>97.000000</td>\n",
              "      <td>36.111111</td>\n",
              "    </tr>\n",
              "  </tbody>\n",
              "</table>\n",
              "</div>"
            ],
            "text/plain": [
              "       Rainfall(inch)  Temperature(0.9m)  Temperature(1.8m)   Air Temp F  \\\n",
              "count     1164.000000        1153.000000         812.000000  1154.000000   \n",
              "mean         0.071375          20.592140          21.291655    68.545061   \n",
              "std          0.252763           5.890783           4.989298    15.818195   \n",
              "min          0.000000           8.504000          11.200000    23.200000   \n",
              "25%          0.000000          15.467000          17.126750    56.625000   \n",
              "50%          0.000000          20.271000          20.635500    70.450000   \n",
              "75%          0.000000          25.983000          25.717750    82.400000   \n",
              "max          4.140000          30.808000          29.700000    97.000000   \n",
              "\n",
              "        Air Temp C  \n",
              "count  1154.000000  \n",
              "mean     20.302811  \n",
              "std       8.787886  \n",
              "min      -4.888889  \n",
              "25%      13.680556  \n",
              "50%      21.361111  \n",
              "75%      28.000000  \n",
              "max      36.111111  "
            ]
          },
          "execution_count": 8,
          "metadata": {},
          "output_type": "execute_result"
        }
      ],
      "source": [
        "data.describe()"
      ]
    },
    {
      "cell_type": "code",
      "execution_count": 9,
      "metadata": {
        "colab": {
          "base_uri": "https://localhost:8080/",
          "height": 272
        },
        "id": "EUqqhEIuHpU8",
        "outputId": "9d24dd13-96c1-4e17-ad9d-dcb335239fe7"
      },
      "outputs": [
        {
          "data": {
            "text/plain": [
              "Date                   0\n",
              "Rainfall(inch)         1\n",
              "Temperature(0.9m)     12\n",
              "Temperature(1.8m)    353\n",
              "Air Temp F            11\n",
              "Air Temp C            11\n",
              "dtype: int64"
            ]
          },
          "execution_count": 9,
          "metadata": {},
          "output_type": "execute_result"
        }
      ],
      "source": [
        "data.isnull().sum()"
      ]
    },
    {
      "cell_type": "code",
      "execution_count": 10,
      "metadata": {
        "colab": {
          "base_uri": "https://localhost:8080/",
          "height": 472
        },
        "id": "wxzE5Xr_HpU8",
        "outputId": "6db1da54-415a-427c-ce07-5abf5943c93d"
      },
      "outputs": [
        {
          "data": {
            "image/png": "[encoded data removed]",
            "text/plain": [
              "<Figure size 640x480 with 1 Axes>"
            ]
          },
          "metadata": {},
          "output_type": "display_data"
        }
      ],
      "source": [
        "# Visualize the relationship between Air Temp and Temperatures at different depths\n",
        "sns.scatterplot(x=data['Air Temp F'], y=data['Temperature(0.9m)'])\n",
        "plt.title('Air Temperature vs Temperature at 0.9m')\n",
        "plt.show()"
      ]
    },
    {
      "cell_type": "code",
      "execution_count": 11,
      "metadata": {
        "colab": {
          "base_uri": "https://localhost:8080/",
          "height": 472
        },
        "id": "oE33KM8qHpU9",
        "outputId": "f62dc3ce-4f87-4478-838c-1d033b561a88"
      },
      "outputs": [
        {
          "data": {
            "image/png": "[encoded data removed]",
            "text/plain": [
              "<Figure size 640x480 with 1 Axes>"
            ]
          },
          "metadata": {},
          "output_type": "display_data"
        }
      ],
      "source": [
        "# Visualize the relationship between Air Temp and Temperatures at different depths\n",
        "sns.scatterplot(x=data['Air Temp F'], y=data['Temperature(1.8m)'])\n",
        "plt.title('Air Temperature vs Temperature at 1.8m')\n",
        "plt.show()"
      ]
    },
    {
      "cell_type": "markdown",
      "metadata": {
        "id": "21M8uZjZHpU9"
      },
      "source": [
        "#### Feature Engineering"
      ]
    },
    {
      "cell_type": "code",
      "execution_count": 12,
      "metadata": {
        "id": "eZcFoqMlHpU_"
      },
      "outputs": [],
      "source": [
        "#Handling Missing values\n",
        "# Mean imputation for missing values\n",
        "data['Rainfall(inch)'].fillna(data['Rainfall(inch)'].mean(), inplace=True)\n",
        "data['Temperature(0.9m)'].fillna(data['Temperature(0.9m)'].mean(), inplace=True)\n",
        "data['Temperature(1.8m)'].fillna(data['Temperature(1.8m)'].mean(), inplace=True)\n",
        "data['Air Temp F'].fillna(data['Air Temp F'].mean(), inplace=True)\n",
        "data['Air Temp C'].fillna(data['Air Temp C'].mean(), inplace=True)\n"
      ]
    },
    {
      "cell_type": "code",
      "execution_count": 13,
      "metadata": {
        "colab": {
          "base_uri": "https://localhost:8080/",
          "height": 272
        },
        "id": "HiolMokMHpU_",
        "outputId": "a9fc751f-fea9-48a4-cfb6-62de7e350ba4"
      },
      "outputs": [
        {
          "data": {
            "text/plain": [
              "Date                 0\n",
              "Rainfall(inch)       0\n",
              "Temperature(0.9m)    0\n",
              "Temperature(1.8m)    0\n",
              "Air Temp F           0\n",
              "Air Temp C           0\n",
              "dtype: int64"
            ]
          },
          "execution_count": 13,
          "metadata": {},
          "output_type": "execute_result"
        }
      ],
      "source": [
        "data.isnull().sum()"
      ]
    },
    {
      "cell_type": "code",
      "execution_count": 14,
      "metadata": {
        "colab": {
          "base_uri": "https://localhost:8080/",
          "height": 206
        },
        "id": "g_BBStNgHpU_",
        "outputId": "e94030f4-8cd5-4347-c888-3ea2f873943e"
      },
      "outputs": [
        {
          "data": {
            "text/html": [
              "<div>\n",
              "<style scoped>\n",
              "    .dataframe tbody tr th:only-of-type {\n",
              "        vertical-align: middle;\n",
              "    }\n",
              "\n",
              "    .dataframe tbody tr th {\n",
              "        vertical-align: top;\n",
              "    }\n",
              "\n",
              "    .dataframe thead th {\n",
              "        text-align: right;\n",
              "    }\n",
              "</style>\n",
              "<table border=\"1\" class=\"dataframe\">\n",
              "  <thead>\n",
              "    <tr style=\"text-align: right;\">\n",
              "      <th></th>\n",
              "      <th>Date</th>\n",
              "      <th>Rainfall(inch)</th>\n",
              "      <th>Temperature(0.9m)</th>\n",
              "      <th>Temperature(1.8m)</th>\n",
              "      <th>Air Temp F</th>\n",
              "      <th>Air Temp C</th>\n",
              "    </tr>\n",
              "  </thead>\n",
              "  <tbody>\n",
              "    <tr>\n",
              "      <th>0</th>\n",
              "      <td>10/3/2016</td>\n",
              "      <td>0.00</td>\n",
              "      <td>25.567</td>\n",
              "      <td>26.171</td>\n",
              "      <td>75.9</td>\n",
              "      <td>24.388889</td>\n",
              "    </tr>\n",
              "    <tr>\n",
              "      <th>1</th>\n",
              "      <td>10/4/2016</td>\n",
              "      <td>0.00</td>\n",
              "      <td>25.713</td>\n",
              "      <td>26.100</td>\n",
              "      <td>78.6</td>\n",
              "      <td>25.888889</td>\n",
              "    </tr>\n",
              "    <tr>\n",
              "      <th>2</th>\n",
              "      <td>10/5/2016</td>\n",
              "      <td>0.06</td>\n",
              "      <td>25.946</td>\n",
              "      <td>26.100</td>\n",
              "      <td>82.6</td>\n",
              "      <td>28.111111</td>\n",
              "    </tr>\n",
              "    <tr>\n",
              "      <th>3</th>\n",
              "      <td>10/6/2016</td>\n",
              "      <td>0.39</td>\n",
              "      <td>26.446</td>\n",
              "      <td>26.158</td>\n",
              "      <td>82.8</td>\n",
              "      <td>28.222222</td>\n",
              "    </tr>\n",
              "    <tr>\n",
              "      <th>4</th>\n",
              "      <td>10/7/2016</td>\n",
              "      <td>0.00</td>\n",
              "      <td>26.663</td>\n",
              "      <td>26.300</td>\n",
              "      <td>72.3</td>\n",
              "      <td>22.388889</td>\n",
              "    </tr>\n",
              "  </tbody>\n",
              "</table>\n",
              "</div>"
            ],
            "text/plain": [
              "        Date  Rainfall(inch)  Temperature(0.9m)  Temperature(1.8m)  \\\n",
              "0  10/3/2016            0.00             25.567             26.171   \n",
              "1  10/4/2016            0.00             25.713             26.100   \n",
              "2  10/5/2016            0.06             25.946             26.100   \n",
              "3  10/6/2016            0.39             26.446             26.158   \n",
              "4  10/7/2016            0.00             26.663             26.300   \n",
              "\n",
              "   Air Temp F  Air Temp C  \n",
              "0        75.9   24.388889  \n",
              "1        78.6   25.888889  \n",
              "2        82.6   28.111111  \n",
              "3        82.8   28.222222  \n",
              "4        72.3   22.388889  "
            ]
          },
          "execution_count": 14,
          "metadata": {},
          "output_type": "execute_result"
        }
      ],
      "source": [
        "data.head()"
      ]
    },
    {
      "cell_type": "code",
      "execution_count": 15,
      "metadata": {
        "id": "XJMU4PFpHpVA"
      },
      "outputs": [],
      "source": [
        "#Handling Date Column\n",
        "\n",
        "data['Date'] = pd.to_datetime(data['Date'])\n",
        "data['day_of_year'] = data['Date'].dt.dayofyear"
      ]
    },
    {
      "cell_type": "code",
      "execution_count": 16,
      "metadata": {
        "colab": {
          "base_uri": "https://localhost:8080/",
          "height": 206
        },
        "id": "y9-TUGwTHpVA",
        "outputId": "570280bc-fac9-453b-c850-2e526de5414e"
      },
      "outputs": [
        {
          "data": {
            "text/html": [
              "<div>\n",
              "<style scoped>\n",
              "    .dataframe tbody tr th:only-of-type {\n",
              "        vertical-align: middle;\n",
              "    }\n",
              "\n",
              "    .dataframe tbody tr th {\n",
              "        vertical-align: top;\n",
              "    }\n",
              "\n",
              "    .dataframe thead th {\n",
              "        text-align: right;\n",
              "    }\n",
              "</style>\n",
              "<table border=\"1\" class=\"dataframe\">\n",
              "  <thead>\n",
              "    <tr style=\"text-align: right;\">\n",
              "      <th></th>\n",
              "      <th>Date</th>\n",
              "      <th>Rainfall(inch)</th>\n",
              "      <th>Temperature(0.9m)</th>\n",
              "      <th>Temperature(1.8m)</th>\n",
              "      <th>Air Temp F</th>\n",
              "      <th>Air Temp C</th>\n",
              "      <th>day_of_year</th>\n",
              "    </tr>\n",
              "  </thead>\n",
              "  <tbody>\n",
              "    <tr>\n",
              "      <th>0</th>\n",
              "      <td>2016-10-03</td>\n",
              "      <td>0.00</td>\n",
              "      <td>25.567</td>\n",
              "      <td>26.171</td>\n",
              "      <td>75.9</td>\n",
              "      <td>24.388889</td>\n",
              "      <td>277</td>\n",
              "    </tr>\n",
              "    <tr>\n",
              "      <th>1</th>\n",
              "      <td>2016-10-04</td>\n",
              "      <td>0.00</td>\n",
              "      <td>25.713</td>\n",
              "      <td>26.100</td>\n",
              "      <td>78.6</td>\n",
              "      <td>25.888889</td>\n",
              "      <td>278</td>\n",
              "    </tr>\n",
              "    <tr>\n",
              "      <th>2</th>\n",
              "      <td>2016-10-05</td>\n",
              "      <td>0.06</td>\n",
              "      <td>25.946</td>\n",
              "      <td>26.100</td>\n",
              "      <td>82.6</td>\n",
              "      <td>28.111111</td>\n",
              "      <td>279</td>\n",
              "    </tr>\n",
              "    <tr>\n",
              "      <th>3</th>\n",
              "      <td>2016-10-06</td>\n",
              "      <td>0.39</td>\n",
              "      <td>26.446</td>\n",
              "      <td>26.158</td>\n",
              "      <td>82.8</td>\n",
              "      <td>28.222222</td>\n",
              "      <td>280</td>\n",
              "    </tr>\n",
              "    <tr>\n",
              "      <th>4</th>\n",
              "      <td>2016-10-07</td>\n",
              "      <td>0.00</td>\n",
              "      <td>26.663</td>\n",
              "      <td>26.300</td>\n",
              "      <td>72.3</td>\n",
              "      <td>22.388889</td>\n",
              "      <td>281</td>\n",
              "    </tr>\n",
              "  </tbody>\n",
              "</table>\n",
              "</div>"
            ],
            "text/plain": [
              "        Date  Rainfall(inch)  Temperature(0.9m)  Temperature(1.8m)  \\\n",
              "0 2016-10-03            0.00             25.567             26.171   \n",
              "1 2016-10-04            0.00             25.713             26.100   \n",
              "2 2016-10-05            0.06             25.946             26.100   \n",
              "3 2016-10-06            0.39             26.446             26.158   \n",
              "4 2016-10-07            0.00             26.663             26.300   \n",
              "\n",
              "   Air Temp F  Air Temp C  day_of_year  \n",
              "0        75.9   24.388889          277  \n",
              "1        78.6   25.888889          278  \n",
              "2        82.6   28.111111          279  \n",
              "3        82.8   28.222222          280  \n",
              "4        72.3   22.388889          281  "
            ]
          },
          "execution_count": 16,
          "metadata": {},
          "output_type": "execute_result"
        }
      ],
      "source": [
        "data.head()"
      ]
    },
    {
      "cell_type": "code",
      "execution_count": 17,
      "metadata": {
        "id": "L4XgQdNfHpVA"
      },
      "outputs": [],
      "source": [
        "#segregatting independent and dependent variables\n",
        "X = data[['day_of_year', 'Rainfall(inch)', 'Air Temp F', 'Air Temp C']]\n",
        "y = data[['Temperature(0.9m)', 'Temperature(1.8m)']]\n"
      ]
    },
    {
      "cell_type": "code",
      "execution_count": 18,
      "metadata": {
        "colab": {
          "base_uri": "https://localhost:8080/",
          "height": 206
        },
        "id": "OXGF1r7yHpVA",
        "outputId": "26719a21-f375-463d-ab82-d94c9161c956"
      },
      "outputs": [
        {
          "data": {
            "text/html": [
              "<div>\n",
              "<style scoped>\n",
              "    .dataframe tbody tr th:only-of-type {\n",
              "        vertical-align: middle;\n",
              "    }\n",
              "\n",
              "    .dataframe tbody tr th {\n",
              "        vertical-align: top;\n",
              "    }\n",
              "\n",
              "    .dataframe thead th {\n",
              "        text-align: right;\n",
              "    }\n",
              "</style>\n",
              "<table border=\"1\" class=\"dataframe\">\n",
              "  <thead>\n",
              "    <tr style=\"text-align: right;\">\n",
              "      <th></th>\n",
              "      <th>day_of_year</th>\n",
              "      <th>Rainfall(inch)</th>\n",
              "      <th>Air Temp F</th>\n",
              "      <th>Air Temp C</th>\n",
              "    </tr>\n",
              "  </thead>\n",
              "  <tbody>\n",
              "    <tr>\n",
              "      <th>0</th>\n",
              "      <td>277</td>\n",
              "      <td>0.00</td>\n",
              "      <td>75.9</td>\n",
              "      <td>24.388889</td>\n",
              "    </tr>\n",
              "    <tr>\n",
              "      <th>1</th>\n",
              "      <td>278</td>\n",
              "      <td>0.00</td>\n",
              "      <td>78.6</td>\n",
              "      <td>25.888889</td>\n",
              "    </tr>\n",
              "    <tr>\n",
              "      <th>2</th>\n",
              "      <td>279</td>\n",
              "      <td>0.06</td>\n",
              "      <td>82.6</td>\n",
              "      <td>28.111111</td>\n",
              "    </tr>\n",
              "    <tr>\n",
              "      <th>3</th>\n",
              "      <td>280</td>\n",
              "      <td>0.39</td>\n",
              "      <td>82.8</td>\n",
              "      <td>28.222222</td>\n",
              "    </tr>\n",
              "    <tr>\n",
              "      <th>4</th>\n",
              "      <td>281</td>\n",
              "      <td>0.00</td>\n",
              "      <td>72.3</td>\n",
              "      <td>22.388889</td>\n",
              "    </tr>\n",
              "  </tbody>\n",
              "</table>\n",
              "</div>"
            ],
            "text/plain": [
              "   day_of_year  Rainfall(inch)  Air Temp F  Air Temp C\n",
              "0          277            0.00        75.9   24.388889\n",
              "1          278            0.00        78.6   25.888889\n",
              "2          279            0.06        82.6   28.111111\n",
              "3          280            0.39        82.8   28.222222\n",
              "4          281            0.00        72.3   22.388889"
            ]
          },
          "execution_count": 18,
          "metadata": {},
          "output_type": "execute_result"
        }
      ],
      "source": [
        "X.head() #Independent Features"
      ]
    },
    {
      "cell_type": "code",
      "execution_count": 19,
      "metadata": {
        "colab": {
          "base_uri": "https://localhost:8080/",
          "height": 206
        },
        "id": "32DnEKceHpVB",
        "outputId": "e52b9bb7-dd08-45c5-81f3-85cf91429f7d"
      },
      "outputs": [
        {
          "data": {
            "text/html": [
              "<div>\n",
              "<style scoped>\n",
              "    .dataframe tbody tr th:only-of-type {\n",
              "        vertical-align: middle;\n",
              "    }\n",
              "\n",
              "    .dataframe tbody tr th {\n",
              "        vertical-align: top;\n",
              "    }\n",
              "\n",
              "    .dataframe thead th {\n",
              "        text-align: right;\n",
              "    }\n",
              "</style>\n",
              "<table border=\"1\" class=\"dataframe\">\n",
              "  <thead>\n",
              "    <tr style=\"text-align: right;\">\n",
              "      <th></th>\n",
              "      <th>Temperature(0.9m)</th>\n",
              "      <th>Temperature(1.8m)</th>\n",
              "    </tr>\n",
              "  </thead>\n",
              "  <tbody>\n",
              "    <tr>\n",
              "      <th>0</th>\n",
              "      <td>25.567</td>\n",
              "      <td>26.171</td>\n",
              "    </tr>\n",
              "    <tr>\n",
              "      <th>1</th>\n",
              "      <td>25.713</td>\n",
              "      <td>26.100</td>\n",
              "    </tr>\n",
              "    <tr>\n",
              "      <th>2</th>\n",
              "      <td>25.946</td>\n",
              "      <td>26.100</td>\n",
              "    </tr>\n",
              "    <tr>\n",
              "      <th>3</th>\n",
              "      <td>26.446</td>\n",
              "      <td>26.158</td>\n",
              "    </tr>\n",
              "    <tr>\n",
              "      <th>4</th>\n",
              "      <td>26.663</td>\n",
              "      <td>26.300</td>\n",
              "    </tr>\n",
              "  </tbody>\n",
              "</table>\n",
              "</div>"
            ],
            "text/plain": [
              "   Temperature(0.9m)  Temperature(1.8m)\n",
              "0             25.567             26.171\n",
              "1             25.713             26.100\n",
              "2             25.946             26.100\n",
              "3             26.446             26.158\n",
              "4             26.663             26.300"
            ]
          },
          "execution_count": 19,
          "metadata": {},
          "output_type": "execute_result"
        }
      ],
      "source": [
        "y.head() #Target Features"
      ]
    },
    {
      "cell_type": "code",
      "execution_count": 20,
      "metadata": {
        "id": "pd2jIdivHpVB"
      },
      "outputs": [],
      "source": [
        "#Spliting train test split\n",
        "from sklearn.model_selection import train_test_split\n",
        "X_train, X_test, y_train, y_test = train_test_split(X, y, test_size=0.2, random_state=42)\n"
      ]
    },
    {
      "cell_type": "code",
      "execution_count": 21,
      "metadata": {
        "colab": {
          "base_uri": "https://localhost:8080/"
        },
        "id": "uYHXShRjHpVB",
        "outputId": "eb4508c5-112c-412b-9983-22fcdd0ef352"
      },
      "outputs": [
        {
          "data": {
            "text/plain": [
              "((1165, 4), (932, 4), (233, 4))"
            ]
          },
          "execution_count": 21,
          "metadata": {},
          "output_type": "execute_result"
        }
      ],
      "source": [
        "X.shape,X_train.shape,X_test.shape"
      ]
    },
    {
      "cell_type": "code",
      "execution_count": 22,
      "metadata": {
        "colab": {
          "base_uri": "https://localhost:8080/",
          "height": 424
        },
        "id": "seP08kfRHpVB",
        "outputId": "d50337da-1ca7-430c-8bf4-0b1a4fab2d1e"
      },
      "outputs": [
        {
          "data": {
            "text/html": [
              "<div>\n",
              "<style scoped>\n",
              "    .dataframe tbody tr th:only-of-type {\n",
              "        vertical-align: middle;\n",
              "    }\n",
              "\n",
              "    .dataframe tbody tr th {\n",
              "        vertical-align: top;\n",
              "    }\n",
              "\n",
              "    .dataframe thead th {\n",
              "        text-align: right;\n",
              "    }\n",
              "</style>\n",
              "<table border=\"1\" class=\"dataframe\">\n",
              "  <thead>\n",
              "    <tr style=\"text-align: right;\">\n",
              "      <th></th>\n",
              "      <th>day_of_year</th>\n",
              "      <th>Rainfall(inch)</th>\n",
              "      <th>Air Temp F</th>\n",
              "      <th>Air Temp C</th>\n",
              "    </tr>\n",
              "  </thead>\n",
              "  <tbody>\n",
              "    <tr>\n",
              "      <th>810</th>\n",
              "      <td>356</td>\n",
              "      <td>0.00</td>\n",
              "      <td>54.5</td>\n",
              "      <td>12.500000</td>\n",
              "    </tr>\n",
              "    <tr>\n",
              "      <th>533</th>\n",
              "      <td>79</td>\n",
              "      <td>0.00</td>\n",
              "      <td>54.7</td>\n",
              "      <td>12.611111</td>\n",
              "    </tr>\n",
              "    <tr>\n",
              "      <th>964</th>\n",
              "      <td>145</td>\n",
              "      <td>0.00</td>\n",
              "      <td>82.3</td>\n",
              "      <td>27.944444</td>\n",
              "    </tr>\n",
              "    <tr>\n",
              "      <th>602</th>\n",
              "      <td>148</td>\n",
              "      <td>0.00</td>\n",
              "      <td>85.8</td>\n",
              "      <td>29.888889</td>\n",
              "    </tr>\n",
              "    <tr>\n",
              "      <th>803</th>\n",
              "      <td>349</td>\n",
              "      <td>0.00</td>\n",
              "      <td>48.6</td>\n",
              "      <td>9.222222</td>\n",
              "    </tr>\n",
              "    <tr>\n",
              "      <th>...</th>\n",
              "      <td>...</td>\n",
              "      <td>...</td>\n",
              "      <td>...</td>\n",
              "      <td>...</td>\n",
              "    </tr>\n",
              "    <tr>\n",
              "      <th>1044</th>\n",
              "      <td>225</td>\n",
              "      <td>0.20</td>\n",
              "      <td>92.4</td>\n",
              "      <td>33.555556</td>\n",
              "    </tr>\n",
              "    <tr>\n",
              "      <th>1095</th>\n",
              "      <td>276</td>\n",
              "      <td>0.00</td>\n",
              "      <td>86.6</td>\n",
              "      <td>30.333333</td>\n",
              "    </tr>\n",
              "    <tr>\n",
              "      <th>1130</th>\n",
              "      <td>311</td>\n",
              "      <td>0.00</td>\n",
              "      <td>59.2</td>\n",
              "      <td>15.111111</td>\n",
              "    </tr>\n",
              "    <tr>\n",
              "      <th>860</th>\n",
              "      <td>41</td>\n",
              "      <td>0.25</td>\n",
              "      <td>39.0</td>\n",
              "      <td>3.888889</td>\n",
              "    </tr>\n",
              "    <tr>\n",
              "      <th>1126</th>\n",
              "      <td>307</td>\n",
              "      <td>0.00</td>\n",
              "      <td>52.3</td>\n",
              "      <td>11.277778</td>\n",
              "    </tr>\n",
              "  </tbody>\n",
              "</table>\n",
              "<p>932 rows × 4 columns</p>\n",
              "</div>"
            ],
            "text/plain": [
              "      day_of_year  Rainfall(inch)  Air Temp F  Air Temp C\n",
              "810           356            0.00        54.5   12.500000\n",
              "533            79            0.00        54.7   12.611111\n",
              "964           145            0.00        82.3   27.944444\n",
              "602           148            0.00        85.8   29.888889\n",
              "803           349            0.00        48.6    9.222222\n",
              "...           ...             ...         ...         ...\n",
              "1044          225            0.20        92.4   33.555556\n",
              "1095          276            0.00        86.6   30.333333\n",
              "1130          311            0.00        59.2   15.111111\n",
              "860            41            0.25        39.0    3.888889\n",
              "1126          307            0.00        52.3   11.277778\n",
              "\n",
              "[932 rows x 4 columns]"
            ]
          },
          "execution_count": 22,
          "metadata": {},
          "output_type": "execute_result"
        }
      ],
      "source": [
        "X_train"
      ]
    },
    {
      "cell_type": "code",
      "execution_count": 23,
      "metadata": {
        "id": "c28mYhbQHpVB"
      },
      "outputs": [],
      "source": [
        "#Starndardization (Scaling the data)\n",
        "\n",
        "from sklearn.preprocessing import StandardScaler\n",
        "scaler = StandardScaler()\n",
        "\n",
        "X_train = scaler.fit_transform(X_train)\n",
        "X_test = scaler.transform(X_test)"
      ]
    },
    {
      "cell_type": "code",
      "execution_count": 24,
      "metadata": {
        "colab": {
          "base_uri": "https://localhost:8080/"
        },
        "id": "wWseEt1QHpVC",
        "outputId": "b2bd74cc-64b7-4d28-e636-f3a4e1be93fc"
      },
      "outputs": [
        {
          "data": {
            "text/plain": [
              "array([[ 1.5390215 , -0.28403316, -0.88403365, -0.88403365],\n",
              "       [-1.06975944, -0.28403316, -0.87145517, -0.87145517],\n",
              "       [-0.44817265, -0.28403316,  0.86437498,  0.86437498],\n",
              "       ...,\n",
              "       [ 1.11521232, -0.28403316, -0.58843938, -0.58843938],\n",
              "       [-1.42764275,  0.63282008, -1.85886579, -1.85886579],\n",
              "       [ 1.07754039, -0.28403316, -1.02239692, -1.02239692]])"
            ]
          },
          "execution_count": 24,
          "metadata": {},
          "output_type": "execute_result"
        }
      ],
      "source": [
        "X_train"
      ]
    },
    {
      "cell_type": "code",
      "execution_count": 25,
      "metadata": {
        "colab": {
          "base_uri": "https://localhost:8080/"
        },
        "id": "LVGluKDAHpVC",
        "outputId": "f9256153-3547-4bdb-f447-b9e83b69d619"
      },
      "outputs": [
        {
          "data": {
            "text/plain": [
              "array([[ 9.83360577e-01,  9.26213113e-01, -7.90109679e-02,\n",
              "        -7.90109680e-02],\n",
              "       [-1.64425633e+00, -2.84033164e-01, -1.22365259e+00,\n",
              "        -1.22365259e+00],\n",
              "       [-9.75579626e-01, -2.84033164e-01, -5.00390025e-01,\n",
              "        -5.00390025e-01],\n",
              "       [-1.05092348e+00, -2.47359034e-01, -2.73977398e-01,\n",
              "        -2.73977397e-01],\n",
              "       [ 7.19657088e-01, -1.74010775e-01,  2.98343412e-01,\n",
              "         2.98343412e-01],\n",
              "       [ 2.48758001e-01, -2.84033164e-01,  9.14688899e-01,\n",
              "         9.14688899e-01],\n",
              "       [ 1.45425966e+00, -2.84033164e-01, -1.07900007e+00,\n",
              "        -1.07900007e+00],\n",
              "       [-9.19071736e-01,  1.43965093e+00, -9.78786869e-02,\n",
              "        -9.78786874e-02],\n",
              "       [-1.19219321e+00, -2.84033164e-01, -4.75647696e-02,\n",
              "        -4.75647694e-02],\n",
              "       [-2.03305123e-01, -2.84033164e-01,  9.65002817e-01,\n",
              "         9.65002816e-01],\n",
              "       [ 1.35066186e+00, -2.84033164e-01, -7.51959612e-01,\n",
              "        -7.51959612e-01],\n",
              "       [ 9.45688650e-01, -2.84033164e-01,  2.60607974e-01,\n",
              "         2.60607974e-01],\n",
              "       [ 3.99445709e-01, -2.84033164e-01,  1.16625849e+00,\n",
              "         1.16625849e+00],\n",
              "       [-4.95262557e-01, -2.10684904e-01,  7.19722470e-01,\n",
              "         7.19722470e-01],\n",
              "       [-5.32934484e-01, -2.84033164e-01,  7.07143990e-01,\n",
              "         7.07143991e-01],\n",
              "       [ 1.01161452e+00, -2.84033164e-01,  3.10921891e-01,\n",
              "         3.10921892e-01],\n",
              "       [-5.80024393e-01, -2.84033164e-01,  6.06516156e-01,\n",
              "         6.06516156e-01],\n",
              "       [-2.88066959e-01, -2.84033164e-01,  3.54946569e-01,\n",
              "         3.54946569e-01],\n",
              "       [-6.93040174e-01, -1.37336645e-01,  7.63747147e-01,\n",
              "         7.63747148e-01],\n",
              "       [ 1.25648205e+00, -2.84033164e-01, -6.89067215e-01,\n",
              "        -6.89067216e-01],\n",
              "       [-4.48172649e-01, -2.84033164e-01,  8.83242701e-01,\n",
              "         8.83242701e-01],\n",
              "       [-1.11684935e+00, -2.84033164e-01, -8.52587447e-01,\n",
              "        -8.52587447e-01],\n",
              "       [ 1.10579434e+00,  1.51299919e+00, -6.01432489e-02,\n",
              "        -6.01432486e-02],\n",
              "       [-5.23516502e-01,  4.12775299e-01,  6.25383875e-01,\n",
              "         6.25383874e-01],\n",
              "       [-3.72828795e-01,  9.26213113e-01,  4.17838966e-01,\n",
              "         4.17838966e-01],\n",
              "       [-1.16393926e+00,  8.27081323e-02,  2.16168668e-02,\n",
              "         2.16168668e-02],\n",
              "       [ 2.77011946e-01, -2.84033164e-01,  1.43040655e+00,\n",
              "         1.43040655e+00],\n",
              "       [-1.33346293e+00, -2.84033164e-01, -2.92845117e-01,\n",
              "        -2.92845117e-01],\n",
              "       [-8.81399809e-01, -2.84033164e-01,  2.85764933e-01,\n",
              "         2.85764932e-01],\n",
              "       [ 1.01161452e+00, -2.84033164e-01, -1.92217282e-01,\n",
              "        -1.92217282e-01],\n",
              "       [ 1.34124388e+00, -2.84033164e-01, -8.58876686e-01,\n",
              "        -8.58876687e-01],\n",
              "       [ 9.55106632e-01, -2.84033164e-01,  7.19307841e-02,\n",
              "         7.19307836e-02],\n",
              "       [-4.76426594e-01,  4.60340027e-02,  1.78847858e-01,\n",
              "         1.78847859e-01],\n",
              "       [-1.01325155e+00, -2.84033164e-01, -9.78786869e-02,\n",
              "        -9.78786874e-02],\n",
              "       [-2.97484941e-01, -2.84033164e-01,  5.93937676e-01,\n",
              "         5.93937677e-01],\n",
              "       [-1.80436202e+00,  2.94329024e+00, -1.67018860e+00,\n",
              "        -1.67018860e+00],\n",
              "       [-1.06975944e+00, -2.84033164e-01,  4.80731362e-01,\n",
              "         4.80731363e-01],\n",
              "       [-7.87219991e-01, -2.84033164e-01,  3.04632652e-01,\n",
              "         3.04632652e-01],\n",
              "       [-4.29336685e-01, -2.84033164e-01,  8.32928784e-01,\n",
              "         8.32928784e-01],\n",
              "       [ 6.44313234e-01, -2.84033164e-01,  1.00902749e+00,\n",
              "         1.00902749e+00],\n",
              "       [-1.27695504e+00, -2.84033164e-01, -7.95984290e-01,\n",
              "        -7.95984290e-01],\n",
              "       [ 3.71191763e-01, -2.84033164e-01,  1.34235720e+00,\n",
              "         1.34235720e+00],\n",
              "       [ 9.26852686e-01, -2.84033164e-01, -1.29324885e-01,\n",
              "        -1.29324885e-01],\n",
              "       [ 3.52355800e-01, -2.84033164e-01,  9.14688899e-01,\n",
              "         9.14688899e-01],\n",
              "       [ 1.31298994e+00,  2.66078780e-01, -1.30541270e+00,\n",
              "        -1.30541270e+00],\n",
              "       [ 1.73414147e-01, -2.84033164e-01,  1.38009263e+00,\n",
              "         1.38009263e+00],\n",
              "       [-1.10743137e+00, -2.84033164e-01, -1.09157855e+00,\n",
              "        -1.09157855e+00],\n",
              "       [-5.04680539e-01, -2.84033164e-01,  5.49912999e-01,\n",
              "         5.49912999e-01],\n",
              "       [-1.69134624e+00, -2.84033164e-01, -1.73937024e+00,\n",
              "        -1.73937024e+00],\n",
              "       [-1.75051178e-01, -1.00662516e-01,  1.15368001e+00,\n",
              "         1.15368001e+00],\n",
              "       [ 7.29075070e-01, -2.84033164e-01,  8.89531941e-01,\n",
              "         8.89531941e-01],\n",
              "       [-6.08278338e-01, -2.84033164e-01,  7.88904106e-01,\n",
              "         7.88904106e-01],\n",
              "       [ 1.51076755e+00, -1.74010775e-01, -8.58876686e-01,\n",
              "        -8.58876687e-01],\n",
              "       [-2.97484941e-01, -2.84033164e-01,  1.15996925e+00,\n",
              "         1.15996925e+00],\n",
              "       [-7.14533787e-02, -1.00662516e-01,  9.14688899e-01,\n",
              "         9.14688899e-01],\n",
              "       [-1.78552606e+00, -2.84033164e-01, -1.92804743e+00,\n",
              "        -1.92804743e+00],\n",
              "       [ 6.63149197e-01, -2.84033164e-01,  1.17254773e+00,\n",
              "         1.17254773e+00],\n",
              "       [-1.62542037e+00, -2.84033164e-01, -4.75233067e-01,\n",
              "        -4.75233067e-01],\n",
              "       [-2.03305123e-01, -2.84033164e-01,  1.19141544e+00,\n",
              "         1.19141544e+00],\n",
              "       [-5.98860356e-01, -2.84033164e-01,  4.24128205e-01,\n",
              "         4.24128206e-01],\n",
              "       [ 1.36007985e+00, -2.84033164e-01, -7.06119084e-04,\n",
              "        -7.06119079e-04],\n",
              "       [ 7.38493051e-01, -2.84033164e-01,  1.07191989e+00,\n",
              "         1.07191989e+00],\n",
              "       [-8.62563845e-01, -2.84033164e-01,  5.30630651e-02,\n",
              "         5.30630653e-02],\n",
              "       [-8.43727882e-01, -2.84033164e-01,  1.97715577e-01,\n",
              "         1.97715578e-01],\n",
              "       [ 5.68969380e-01, -6.39883861e-02,  3.17211131e-01,\n",
              "         3.17211131e-01],\n",
              "       [ 1.53902150e+00, -2.84033164e-01, -1.04755388e+00,\n",
              "        -1.04755388e+00],\n",
              "       [ 4.65371581e-01, -2.84033164e-01,  7.38590189e-01,\n",
              "         7.38590188e-01],\n",
              "       [-7.58966046e-01, -2.84033164e-01, -5.94728620e-01,\n",
              "        -5.94728620e-01],\n",
              "       [ 4.46535617e-01, -2.84033164e-01,  9.46135098e-01,\n",
              "         9.46135098e-01],\n",
              "       [ 9.80702927e-02, -2.84033164e-01,  1.78889321e+00,\n",
              "         1.78889321e+00],\n",
              "       [-7.40130083e-01, -2.84033164e-01, -1.92217282e-01,\n",
              "        -1.92217282e-01],\n",
              "       [ 1.20939214e+00, -2.84033164e-01,  8.45092634e-02,\n",
              "         8.45092639e-02],\n",
              "       [ 1.61436535e+00,  8.89538983e-01, -1.85257655e+00,\n",
              "        -1.85257655e+00],\n",
              "       [ 1.52018554e+00, -2.84033164e-01, -8.77744405e-01,\n",
              "        -8.77744405e-01],\n",
              "       [-6.74204210e-01, -2.84033164e-01, -2.67688158e-01,\n",
              "        -2.67688158e-01],\n",
              "       [ 1.60494737e+00, -2.84033164e-01,  1.53276271e-02,\n",
              "         1.53276266e-02],\n",
              "       [-1.74785413e+00, -2.10684904e-01, -8.14852009e-01,\n",
              "        -8.14852009e-01],\n",
              "       [ 1.36949783e+00, -2.84033164e-01,  1.66269379e-01,\n",
              "         1.66269379e-01],\n",
              "       [ 1.32240792e+00, -2.84033164e-01, -2.92845117e-01,\n",
              "        -2.92845117e-01],\n",
              "       [ 1.23764608e+00, -2.84033164e-01, -9.65793761e-01,\n",
              "        -9.65793761e-01],\n",
              "       [ 1.27531801e+00, -2.84033164e-01, -4.37497629e-01,\n",
              "        -4.37497629e-01],\n",
              "       [ 1.39775177e+00, -2.84033164e-01, -1.49408989e+00,\n",
              "        -1.49408989e+00],\n",
              "       [-1.57833046e+00, -2.84033164e-01, -1.15447095e+00,\n",
              "        -1.15447095e+00],\n",
              "       [-1.02266953e+00, -2.84033164e-01, -8.53002076e-02,\n",
              "        -8.53002070e-02],\n",
              "       [-3.37814517e-02, -2.84033164e-01,  1.17883697e+00,\n",
              "         1.17883697e+00],\n",
              "       [-1.18543287e-01, -2.84033164e-01,  1.34864644e+00,\n",
              "         1.34864644e+00],\n",
              "       [ 6.91403143e-01, -2.84033164e-01,  9.71292056e-01,\n",
              "         9.71292056e-01],\n",
              "       [ 1.32240792e+00, -2.84033164e-01, -4.24919150e-01,\n",
              "        -4.24919149e-01],\n",
              "       [-1.05092348e+00, -2.84033164e-01,  3.67525048e-01,\n",
              "         3.67525049e-01],\n",
              "       [-1.44647871e+00,  2.29404651e-01, -2.33055877e+00,\n",
              "        -2.33055877e+00],\n",
              "       [-6.83622192e-01, -2.84033164e-01, -6.32464058e-01,\n",
              "        -6.32464059e-01],\n",
              "       [-9.19071736e-01, -6.39883861e-02, -5.44414703e-01,\n",
              "        -5.44414703e-01],\n",
              "       [-3.53992831e-01,  1.92730521e-01,  5.68780718e-01,\n",
              "         5.68780717e-01],\n",
              "       [ 2.39340019e-01, -2.84033164e-01,  1.36751416e+00,\n",
              "         1.36751416e+00],\n",
              "       [ 1.32240792e+00, -2.84033164e-01, -3.54009190e-03,\n",
              "        -3.54009164e-03],\n",
              "       [ 1.54843948e+00, -2.84033164e-01, -1.19220639e+00,\n",
              "        -1.19220639e+00],\n",
              "       [-1.70076422e+00, -2.73142565e-02,  1.22244701e-01,\n",
              "         1.22244702e-01],\n",
              "       [ 1.16906256e-01, -2.84033164e-01,  8.26639544e-01,\n",
              "         8.26639544e-01],\n",
              "       [ 1.14346627e+00, -1.37336645e-01, -4.68943827e-01,\n",
              "        -4.68943827e-01],\n",
              "       [ 5.68969380e-01, -2.84033164e-01,  4.49285164e-01,\n",
              "         4.49285164e-01],\n",
              "       [ 1.40716976e+00, -2.84033164e-01, -7.06119084e-04,\n",
              "        -7.06119079e-04],\n",
              "       [-5.89442375e-01, -2.84033164e-01,  6.12805395e-01,\n",
              "         6.12805395e-01],\n",
              "       [-1.25811908e+00,  3.39427039e-01, -1.48192604e-01,\n",
              "        -1.48192604e-01],\n",
              "       [-4.57590630e-01, -2.84033164e-01, -7.90109679e-02,\n",
              "        -7.90109680e-02],\n",
              "       [ 1.63996165e-01, -2.84033164e-01,  1.45556351e+00,\n",
              "         1.45556351e+00],\n",
              "       [-1.22044715e+00, -2.84033164e-01, -2.56954988e+00,\n",
              "        -2.56954988e+00],\n",
              "       [ 5.12461490e-01, -2.84033164e-01,  7.88904106e-01,\n",
              "         7.88904106e-01],\n",
              "       [ 1.54578183e-01, -2.84033164e-01,  1.44927427e+00,\n",
              "         1.44927427e+00],\n",
              "       [-6.20353969e-02, -6.39883861e-02,  1.09707685e+00,\n",
              "         1.09707685e+00],\n",
              "       [-1.56215214e-01, -2.84033164e-01,  6.75697792e-01,\n",
              "         6.75697792e-01],\n",
              "       [-1.01325155e+00,  1.58634745e+00,  4.30417445e-01,\n",
              "         4.30417445e-01],\n",
              "       [-1.58774844e+00, -2.84033164e-01, -3.74605232e-01,\n",
              "        -3.74605232e-01],\n",
              "       [ 7.92343293e-02, -2.84033164e-01,  1.36751416e+00,\n",
              "         1.36751416e+00],\n",
              "       [-1.47473266e+00,  5.59471817e-01, -2.04754298e+00,\n",
              "        -2.04754298e+00],\n",
              "       [-1.47473266e+00, -2.84033164e-01,  1.34823181e-01,\n",
              "         1.34823181e-01],\n",
              "       [ 2.29922037e-01, -2.84033164e-01,  1.11594457e+00,\n",
              "         1.11594457e+00],\n",
              "       [ 1.00219654e+00, -2.84033164e-01, -5.56993182e-01,\n",
              "        -5.56993182e-01],\n",
              "       [ 1.38833379e+00, -2.84033164e-01, -1.24252031e+00,\n",
              "        -1.24252031e+00],\n",
              "       [ 1.07754039e+00,  1.47632506e+00, -3.30580555e-01,\n",
              "        -3.30580554e-01],\n",
              "       [ 6.98163475e-02, -2.84033164e-01,  1.30462176e+00,\n",
              "         1.30462176e+00],\n",
              "       [-1.77610807e+00, -2.84033164e-01, -1.98465059e+00,\n",
              "        -1.98465059e+00],\n",
              "       [-7.49548064e-01, -2.84033164e-01, -3.24291315e-01,\n",
              "        -3.24291315e-01],\n",
              "       [ 1.46367765e+00, -2.10684904e-01, -1.41232978e+00,\n",
              "        -1.41232978e+00],\n",
              "       [-4.31994334e-02, -2.84033164e-01,  1.07191989e+00,\n",
              "         1.07191989e+00],\n",
              "       [-1.44647871e+00, -2.84033164e-01, -3.55737513e-01,\n",
              "        -3.55737513e-01],\n",
              "       [-1.73843615e+00, -2.84033164e-01, -1.02868616e+00,\n",
              "        -1.02868616e+00],\n",
              "       [-4.01082740e-01, -2.84033164e-01,  4.42995924e-01,\n",
              "         4.42995924e-01],\n",
              "       [-1.43706073e+00,  3.02752910e-01, -1.97836135e+00,\n",
              "        -1.97836135e+00],\n",
              "       [-1.74785413e+00, -2.84033164e-01, -2.82740870e+00,\n",
              "        -2.82740870e+00],\n",
              "       [ 1.34124388e+00, -2.84033164e-01, -1.60771084e-01,\n",
              "        -1.60771083e-01],\n",
              "       [ 1.08695838e+00, -2.84033164e-01,  2.54318734e-01,\n",
              "         2.54318735e-01],\n",
              "       [-9.94415590e-01, -2.84033164e-01, -4.37497629e-01,\n",
              "        -4.37497629e-01],\n",
              "       [ 1.30357196e+00,  9.26213113e-01, -1.00981844e+00,\n",
              "        -1.00981844e+00],\n",
              "       [ 4.15624023e-02, -2.84033164e-01,  1.15368001e+00,\n",
              "         1.15368001e+00],\n",
              "       [ 2.58175982e-01, -2.84033164e-01,  8.01482585e-01,\n",
              "         8.01482585e-01],\n",
              "       [-1.57833046e+00, -2.84033164e-01, -1.62616393e+00,\n",
              "        -1.62616393e+00],\n",
              "       [-8.06055955e-01, -2.84033164e-01,  2.35451015e-01,\n",
              "         2.35451016e-01],\n",
              "       [-1.69134624e+00, -2.84033164e-01, -2.05383222e+00,\n",
              "        -2.05383222e+00],\n",
              "       [ 1.62378334e+00, -2.84033164e-01, -1.19220639e+00,\n",
              "        -1.19220639e+00],\n",
              "       [-7.02458156e-01, -2.84033164e-01,  9.07985031e-02,\n",
              "         9.07985030e-02],\n",
              "       [-8.81399809e-01, -2.84033164e-01, -7.70827331e-01,\n",
              "        -7.70827331e-01],\n",
              "       [ 1.51076755e+00, -2.47359034e-01, -8.08562769e-01,\n",
              "        -8.08562769e-01],\n",
              "       [-2.31559068e-01, -2.84033164e-01,  3.86392767e-01,\n",
              "         3.86392767e-01],\n",
              "       [-9.47325681e-01, -2.84033164e-01, -7.58248852e-01,\n",
              "        -7.58248852e-01],\n",
              "       [ 1.26590003e+00, -2.84033164e-01, -4.18629910e-01,\n",
              "        -4.18629910e-01],\n",
              "       [ 1.03986847e+00, -2.84033164e-01,  4.11549726e-01,\n",
              "         4.11549726e-01],\n",
              "       [-7.11876137e-01,  1.92730521e-01,  3.10921891e-01,\n",
              "         3.10921892e-01],\n",
              "       [ 1.27531801e+00, -2.84033164e-01, -6.19885579e-01,\n",
              "        -6.19885580e-01],\n",
              "       [ 1.36949783e+00, -2.84033164e-01, -7.06119084e-04,\n",
              "        -7.06119079e-04],\n",
              "       [ 6.72567179e-01, -2.84033164e-01,  9.71292056e-01,\n",
              "         9.71292056e-01],\n",
              "       [ 8.89180759e-01,  1.29295441e+00, -3.54009190e-03,\n",
              "        -3.54009164e-03],\n",
              "       [ 1.35066186e+00, -2.84033164e-01, -1.29324885e-01,\n",
              "        -1.29324885e-01],\n",
              "       [ 2.95847909e-01, -2.84033164e-01,  5.81359197e-01,\n",
              "         5.81359197e-01],\n",
              "       [-1.18277522e+00, -2.84033164e-01, -5.31836224e-01,\n",
              "        -5.31836224e-01],\n",
              "       [ 1.35066186e+00, -2.84033164e-01, -1.04755388e+00,\n",
              "        -1.04755388e+00],\n",
              "       [ 1.01161452e+00, -2.10684904e-01, -4.24919150e-01,\n",
              "        -4.24919149e-01],\n",
              "       [ 5.40715435e-01,  5.96145947e-01,  7.88904106e-01,\n",
              "         7.88904106e-01],\n",
              "       [-3.91664758e-01, -2.84033164e-01,  7.82614866e-01,\n",
              "         7.82614866e-01],\n",
              "       [-1.65633196e-01, -2.84033164e-01,  4.99599081e-01,\n",
              "         4.99599081e-01],\n",
              "       [ 6.98163475e-02, -2.84033164e-01,  1.75744701e+00,\n",
              "         1.75744701e+00],\n",
              "       [-1.12626733e+00, -2.84033164e-01, -4.18629910e-01,\n",
              "        -4.18629910e-01],\n",
              "       [-3.63410813e-01,  3.39427039e-01,  2.48029495e-01,\n",
              "         2.48029495e-01],\n",
              "       [ 1.23764608e+00,  1.19382262e-01, -1.10457166e-01,\n",
              "        -1.10457167e-01],\n",
              "       [-9.56743663e-01, -2.84033164e-01, -5.38540092e-02,\n",
              "        -5.38540096e-02],\n",
              "       [-4.57590630e-01, -2.84033164e-01,  9.46135098e-01,\n",
              "         9.46135098e-01],\n",
              "       [-1.16393926e+00, -2.84033164e-01,  1.22244701e-01,\n",
              "         1.22244702e-01],\n",
              "       [-5.23516502e-01, -2.84033164e-01,  7.88904106e-01,\n",
              "         7.88904106e-01],\n",
              "       [-1.53124055e+00, -2.84033164e-01, -1.60729621e+00,\n",
              "        -1.60729621e+00],\n",
              "       [-1.20161119e+00, -2.84033164e-01, -7.70827331e-01,\n",
              "        -7.70827331e-01],\n",
              "       [ 5.59551398e-01, -2.84033164e-01,  3.36078850e-01,\n",
              "         3.36078850e-01],\n",
              "       [ 7.85582960e-01, -2.84033164e-01,  8.45507263e-01,\n",
              "         8.45507263e-01],\n",
              "       [-7.77802010e-01, -2.84033164e-01,  5.24756040e-01,\n",
              "         5.24756040e-01],\n",
              "       [ 8.13836905e-01, -2.84033164e-01,  1.10965533e+00,\n",
              "         1.10965533e+00],\n",
              "       [-1.11684935e+00, -2.84033164e-01, -3.68315993e-01,\n",
              "        -3.68315992e-01],\n",
              "       [-4.76426594e-01, -2.84033164e-01,  7.19722470e-01,\n",
              "         7.19722470e-01],\n",
              "       [-1.55007651e+00, -2.84033164e-01, -9.97239959e-01,\n",
              "        -9.97239959e-01],\n",
              "       [ 5.50133417e-01, -2.84033164e-01,  1.32977872e+00,\n",
              "         1.32977872e+00],\n",
              "       [-6.74204210e-01,  1.95308874e+00,  5.81359197e-01,\n",
              "         5.81359197e-01],\n",
              "       [-1.71960018e+00, -2.84033164e-01, -1.24252031e+00,\n",
              "        -1.24252031e+00],\n",
              "       [-1.03208752e+00, -1.00662516e-01,  1.34823181e-01,\n",
              "         1.34823181e-01],\n",
              "       [ 1.57669343e+00, -2.84033164e-01,  2.35451015e-01,\n",
              "         2.35451016e-01],\n",
              "       [ 7.66746997e-01, -2.84033164e-01,  6.25383875e-01,\n",
              "         6.25383874e-01],\n",
              "       [-5.42352466e-01, -2.84033164e-01,  7.44879428e-01,\n",
              "         7.44879428e-01],\n",
              "       [-2.78648977e-01, -2.84033164e-01,  4.17838966e-01,\n",
              "         4.17838966e-01],\n",
              "       [-1.18543287e-01, -2.84033164e-01,  1.14739077e+00,\n",
              "         1.14739077e+00],\n",
              "       [-1.55949449e+00, -2.84033164e-01, -1.35572662e+00,\n",
              "        -1.35572662e+00],\n",
              "       [ 8.98598741e-01, -2.84033164e-01,  3.36078850e-01,\n",
              "         3.36078850e-01],\n",
              "       [ 7.47911033e-01, -2.84033164e-01,  1.22244701e-01,\n",
              "         1.22244702e-01],\n",
              "       [ 5.87805344e-01, -2.84033164e-01,  3.80103528e-01,\n",
              "         3.80103528e-01],\n",
              "       [-1.55007651e+00, -2.84033164e-01, -1.02239692e+00,\n",
              "        -1.02239692e+00],\n",
              "       [-1.13568532e+00, -2.84033164e-01, -9.46926042e-01,\n",
              "        -9.46926042e-01],\n",
              "       [-1.59716642e+00, -2.84033164e-01, -1.35572662e+00,\n",
              "        -1.35572662e+00],\n",
              "       [-1.75727211e+00, -2.47359034e-01, -7.39381133e-01,\n",
              "        -7.39381133e-01],\n",
              "       [-6.55368247e-01,  2.66078780e-01,  9.70877428e-02,\n",
              "         9.70877431e-02],\n",
              "       [ 1.51076755e+00, -2.84033164e-01, -2.78338402e+00,\n",
              "        -2.78338402e+00],\n",
              "       [-6.17696320e-01,  3.93349174e+00,  5.24756040e-01,\n",
              "         5.24756040e-01],\n",
              "       [-1.35229890e+00, -2.84033164e-01, -1.23035646e-01,\n",
              "        -1.23035646e-01],\n",
              "       [ 1.73414147e-01, -2.84033164e-01,  1.00273825e+00,\n",
              "         1.00273826e+00],\n",
              "       [-2.43634699e-02, -2.84033164e-01,  1.15368001e+00,\n",
              "         1.15368001e+00],\n",
              "       [ 4.08863690e-01, -2.84033164e-01,  1.09078761e+00,\n",
              "         1.09078761e+00],\n",
              "       [ 1.38833379e+00, -2.47359034e-01, -1.16076019e+00,\n",
              "        -1.16076019e+00],\n",
              "       [-1.32404495e+00, -2.84033164e-01, -3.93472951e-01,\n",
              "        -3.93472952e-01],\n",
              "       [-1.24870110e+00, -2.84033164e-01, -5.31836224e-01,\n",
              "        -5.31836224e-01],\n",
              "       [-6.17696320e-01, -2.84033164e-01,  6.75697792e-01,\n",
              "         6.75697792e-01],\n",
              "       [-6.74204210e-01, -2.84033164e-01,  3.80103528e-01,\n",
              "         3.80103528e-01],\n",
              "       [-1.34288091e+00,  2.13645939e+00, -9.82933156e-03,\n",
              "        -9.82933181e-03],\n",
              "       [ 9.80702927e-02, -2.84033164e-01,  1.38009263e+00,\n",
              "         1.38009263e+00],\n",
              "       [ 1.57669343e+00, -2.84033164e-01, -3.24291315e-01,\n",
              "        -3.24291315e-01],\n",
              "       [-1.46797233e-01, -2.84033164e-01,  1.24172936e+00,\n",
              "         1.24172936e+00],\n",
              "       [-1.63483835e+00, -2.84033164e-01, -1.38717282e+00,\n",
              "        -1.38717282e+00],\n",
              "       [-1.09125306e-01,  2.66078780e-01,  1.16625849e+00,\n",
              "         1.16625849e+00],\n",
              "       [ 1.92250110e-01, -2.84033164e-01,  9.77581296e-01,\n",
              "         9.77581295e-01],\n",
              "       [-6.20353969e-02,  1.47632506e+00,  1.07820913e+00,\n",
              "         1.07820913e+00],\n",
              "       [-4.67008612e-01, -2.84033164e-01,  8.32928784e-01,\n",
              "         8.32928784e-01],\n",
              "       [ 1.19997416e+00, -2.84033164e-01, -1.67060323e-01,\n",
              "        -1.67060324e-01],\n",
              "       [ 1.42600572e+00, -2.84033164e-01, -1.18591715e+00,\n",
              "        -1.18591715e+00],\n",
              "       [-8.08713604e-02, -2.84033164e-01,  8.70664222e-01,\n",
              "         8.70664222e-01],\n",
              "       [ 1.45160201e-01, -2.84033164e-01,  9.27267379e-01,\n",
              "         9.27267379e-01],\n",
              "       [-1.38055284e+00, -2.84033164e-01, -1.25509879e+00,\n",
              "        -1.25509879e+00],\n",
              "       [-1.02266953e+00, -2.84033164e-01,  1.97715577e-01,\n",
              "         1.97715578e-01],\n",
              "       [ 1.20939214e+00, -2.84033164e-01, -8.96612124e-01,\n",
              "        -8.96612124e-01],\n",
              "       [-9.37907699e-01, -2.84033164e-01, -4.62654587e-01,\n",
              "        -4.62654588e-01],\n",
              "       [-9.19071736e-01, -2.84033164e-01, -2.92845117e-01,\n",
              "        -2.92845117e-01],\n",
              "       [ 4.27699654e-01,  1.51299919e+00,  6.25383875e-01,\n",
              "         6.25383874e-01],\n",
              "       [-9.75579626e-01, -2.84033164e-01, -2.61398918e-01,\n",
              "        -2.61398918e-01],\n",
              "       [-3.25738886e-01, -2.84033164e-01,  8.51796503e-01,\n",
              "         8.51796502e-01],\n",
              "       [ 1.19055618e+00, -2.84033164e-01, -1.47522217e+00,\n",
              "        -1.47522217e+00],\n",
              "       [ 1.30357196e+00, -2.84033164e-01, -3.87183712e-01,\n",
              "        -3.87183711e-01],\n",
              "       [ 3.61773782e-01, -2.84033164e-01,  1.42411731e+00,\n",
              "         1.42411731e+00],\n",
              "       [ 1.52960352e+00, -2.84033164e-01, -1.78968416e+00,\n",
              "        -1.78968416e+00],\n",
              "       [-2.50395032e-01, -2.84033164e-01,  1.24172936e+00,\n",
              "         1.24172936e+00],\n",
              "       [ 1.21881012e+00, -2.84033164e-01,  1.09666222e-01,\n",
              "         1.09666222e-01],\n",
              "       [-1.40880679e+00, -1.37336645e-01, -2.11043538e+00,\n",
              "        -2.11043538e+00]])"
            ]
          },
          "execution_count": 25,
          "metadata": {},
          "output_type": "execute_result"
        }
      ],
      "source": [
        "X_test"
      ]
    },
    {
      "cell_type": "markdown",
      "metadata": {
        "id": "bR-tbp-SHpVC"
      },
      "source": [
        "#### ANN Model"
      ]
    },
    {
      "cell_type": "markdown",
      "metadata": {},
      "source": [
        "![download.png](data:image/png;base64,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)"
      ]
    },
    {
      "cell_type": "code",
      "execution_count": 26,
      "metadata": {
        "id": "GvKEsvSyHpVC"
      },
      "outputs": [],
      "source": [
        "#importing libraries for ANN Model\n",
        "\n",
        "import tensorflow\n",
        "from tensorflow.keras.models import Sequential\n",
        "from tensorflow.keras.layers import Dense"
      ]
    },
    {
      "cell_type": "code",
      "execution_count": 27,
      "metadata": {
        "id": "IGcHVCb5HpVC"
      },
      "outputs": [],
      "source": [
        "# Defining the ANN model\n",
        "\n",
        "model = Sequential()\n",
        "model.add(Dense(128, activation='relu', input_shape=(X_train.shape[1],))) #HL1 connected with IP layer\n",
        "model.add(Dense(64, activation='relu')) #Hidden layer2\n",
        "model.add(Dense(2))  # Output layer for two temperatures\n"
      ]
    },
    {
      "cell_type": "code",
      "execution_count": 28,
      "metadata": {
        "colab": {
          "base_uri": "https://localhost:8080/",
          "height": 238
        },
        "id": "rWxv6SzbHpVD",
        "outputId": "3cf29590-14b4-42e6-cb29-7ca904795ca1"
      },
      "outputs": [
        {
          "data": {
            "text/html": [
              "<pre style=\"white-space:pre;overflow-x:auto;line-height:normal;font-family:Menlo,'DejaVu Sans Mono',consolas,'Courier New',monospace\"><span style=\"font-weight: bold\">Model: \"sequential\"</span>\n",
              "</pre>\n"
            ],
            "text/plain": [
              "\u001b[1mModel: \"sequential\"\u001b[0m\n"
            ]
          },
          "metadata": {},
          "output_type": "display_data"
        },
        {
          "data": {
            "text/html": [
              "<pre style=\"white-space:pre;overflow-x:auto;line-height:normal;font-family:Menlo,'DejaVu Sans Mono',consolas,'Courier New',monospace\">┏━━━━━━━━━━━━━━━━━━━━━━━━━━━━━━━━━┳━━━━━━━━━━━━━━━━━━━━━━━━┳━━━━━━━━━━━━━━━┓\n",
              "┃<span style=\"font-weight: bold\"> Layer (type)                    </span>┃<span style=\"font-weight: bold\"> Output Shape           </span>┃<span style=\"font-weight: bold\">       Param # </span>┃\n",
              "┡━━━━━━━━━━━━━━━━━━━━━━━━━━━━━━━━━╇━━━━━━━━━━━━━━━━━━━━━━━━╇━━━━━━━━━━━━━━━┩\n",
              "│ dense (<span style=\"color: #0087ff; text-decoration-color: #0087ff\">Dense</span>)                   │ (<span style=\"color: #00d7ff; text-decoration-color: #00d7ff\">None</span>, <span style=\"color: #00af00; text-decoration-color: #00af00\">128</span>)            │           <span style=\"color: #00af00; text-decoration-color: #00af00\">640</span> │\n",
              "├─────────────────────────────────┼────────────────────────┼───────────────┤\n",
              "│ dense_1 (<span style=\"color: #0087ff; text-decoration-color: #0087ff\">Dense</span>)                 │ (<span style=\"color: #00d7ff; text-decoration-color: #00d7ff\">None</span>, <span style=\"color: #00af00; text-decoration-color: #00af00\">64</span>)             │         <span style=\"color: #00af00; text-decoration-color: #00af00\">8,256</span> │\n",
              "├─────────────────────────────────┼────────────────────────┼───────────────┤\n",
              "│ dense_2 (<span style=\"color: #0087ff; text-decoration-color: #0087ff\">Dense</span>)                 │ (<span style=\"color: #00d7ff; text-decoration-color: #00d7ff\">None</span>, <span style=\"color: #00af00; text-decoration-color: #00af00\">2</span>)              │           <span style=\"color: #00af00; text-decoration-color: #00af00\">130</span> │\n",
              "└─────────────────────────────────┴────────────────────────┴───────────────┘\n",
              "</pre>\n"
            ],
            "text/plain": [
              "┏━━━━━━━━━━━━━━━━━━━━━━━━━━━━━━━━━┳━━━━━━━━━━━━━━━━━━━━━━━━┳━━━━━━━━━━━━━━━┓\n",
              "┃\u001b[1m \u001b[0m\u001b[1mLayer (type)                   \u001b[0m\u001b[1m \u001b[0m┃\u001b[1m \u001b[0m\u001b[1mOutput Shape          \u001b[0m\u001b[1m \u001b[0m┃\u001b[1m \u001b[0m\u001b[1m      Param #\u001b[0m\u001b[1m \u001b[0m┃\n",
              "┡━━━━━━━━━━━━━━━━━━━━━━━━━━━━━━━━━╇━━━━━━━━━━━━━━━━━━━━━━━━╇━━━━━━━━━━━━━━━┩\n",
              "│ dense (\u001b[38;5;33mDense\u001b[0m)                   │ (\u001b[38;5;45mNone\u001b[0m, \u001b[38;5;34m128\u001b[0m)            │           \u001b[38;5;34m640\u001b[0m │\n",
              "├─────────────────────────────────┼────────────────────────┼───────────────┤\n",
              "│ dense_1 (\u001b[38;5;33mDense\u001b[0m)                 │ (\u001b[38;5;45mNone\u001b[0m, \u001b[38;5;34m64\u001b[0m)             │         \u001b[38;5;34m8,256\u001b[0m │\n",
              "├─────────────────────────────────┼────────────────────────┼───────────────┤\n",
              "│ dense_2 (\u001b[38;5;33mDense\u001b[0m)                 │ (\u001b[38;5;45mNone\u001b[0m, \u001b[38;5;34m2\u001b[0m)              │           \u001b[38;5;34m130\u001b[0m │\n",
              "└─────────────────────────────────┴────────────────────────┴───────────────┘\n"
            ]
          },
          "metadata": {},
          "output_type": "display_data"
        },
        {
          "data": {
            "text/html": [
              "<pre style=\"white-space:pre;overflow-x:auto;line-height:normal;font-family:Menlo,'DejaVu Sans Mono',consolas,'Courier New',monospace\"><span style=\"font-weight: bold\"> Total params: </span><span style=\"color: #00af00; text-decoration-color: #00af00\">9,026</span> (35.26 KB)\n",
              "</pre>\n"
            ],
            "text/plain": [
              "\u001b[1m Total params: \u001b[0m\u001b[38;5;34m9,026\u001b[0m (35.26 KB)\n"
            ]
          },
          "metadata": {},
          "output_type": "display_data"
        },
        {
          "data": {
            "text/html": [
              "<pre style=\"white-space:pre;overflow-x:auto;line-height:normal;font-family:Menlo,'DejaVu Sans Mono',consolas,'Courier New',monospace\"><span style=\"font-weight: bold\"> Trainable params: </span><span style=\"color: #00af00; text-decoration-color: #00af00\">9,026</span> (35.26 KB)\n",
              "</pre>\n"
            ],
            "text/plain": [
              "\u001b[1m Trainable params: \u001b[0m\u001b[38;5;34m9,026\u001b[0m (35.26 KB)\n"
            ]
          },
          "metadata": {},
          "output_type": "display_data"
        },
        {
          "data": {
            "text/html": [
              "<pre style=\"white-space:pre;overflow-x:auto;line-height:normal;font-family:Menlo,'DejaVu Sans Mono',consolas,'Courier New',monospace\"><span style=\"font-weight: bold\"> Non-trainable params: </span><span style=\"color: #00af00; text-decoration-color: #00af00\">0</span> (0.00 B)\n",
              "</pre>\n"
            ],
            "text/plain": [
              "\u001b[1m Non-trainable params: \u001b[0m\u001b[38;5;34m0\u001b[0m (0.00 B)\n"
            ]
          },
          "metadata": {},
          "output_type": "display_data"
        }
      ],
      "source": [
        "#Summary of the model\n",
        "model.summary()"
      ]
    },
    {
      "cell_type": "code",
      "execution_count": 29,
      "metadata": {
        "id": "55PR0itQHpVD"
      },
      "outputs": [],
      "source": [
        "# Compile the neural network model\n",
        "model.compile(optimizer='adam', loss='mean_squared_error', metrics=['accuracy'])\n"
      ]
    },
    {
      "cell_type": "code",
      "execution_count": 30,
      "metadata": {
        "colab": {
          "base_uri": "https://localhost:8080/"
        },
        "id": "VttUMAHPHpVD",
        "outputId": "b29c2015-9f4b-42c9-c97b-94dd5ed6529c"
      },
      "outputs": [
        {
          "name": "stdout",
          "output_type": "stream",
          "text": [
            "Epoch 1/50\n",
            "\u001b[1m28/28\u001b[0m \u001b[32m━━━━━━━━━━━━━━━━━━━━\u001b[0m\u001b[37m\u001b[0m \u001b[1m10s\u001b[0m 45ms/step - accuracy: 0.5363 - loss: 440.7912 - val_accuracy: 0.6064 - val_loss: 407.5536\n",
            "Epoch 2/50\n",
            "\u001b[1m28/28\u001b[0m \u001b[32m━━━━━━━━━━━━━━━━━━━━\u001b[0m\u001b[37m\u001b[0m \u001b[1m0s\u001b[0m 4ms/step - accuracy: 0.5340 - loss: 373.9443 - val_accuracy: 0.6064 - val_loss: 267.8357\n",
            "Epoch 3/50\n",
            "\u001b[1m28/28\u001b[0m \u001b[32m━━━━━━━━━━━━━━━━━━━━\u001b[0m\u001b[37m\u001b[0m \u001b[1m0s\u001b[0m 4ms/step - accuracy: 0.5351 - loss: 208.4742 - val_accuracy: 0.6064 - val_loss: 88.0980\n",
            "Epoch 4/50\n",
            "\u001b[1m28/28\u001b[0m \u001b[32m━━━━━━━━━━━━━━━━━━━━\u001b[0m\u001b[37m\u001b[0m \u001b[1m0s\u001b[0m 8ms/step - accuracy: 0.5404 - loss: 66.4340 - val_accuracy: 0.6064 - val_loss: 31.4699\n",
            "Epoch 5/50\n",
            "\u001b[1m28/28\u001b[0m \u001b[32m━━━━━━━━━━━━━━━━━━━━\u001b[0m\u001b[37m\u001b[0m \u001b[1m0s\u001b[0m 4ms/step - accuracy: 0.6284 - loss: 32.5146 - val_accuracy: 0.8723 - val_loss: 25.8369\n",
            "Epoch 6/50\n",
            "\u001b[1m28/28\u001b[0m \u001b[32m━━━━━━━━━━━━━━━━━━━━\u001b[0m\u001b[37m\u001b[0m \u001b[1m0s\u001b[0m 3ms/step - accuracy: 0.7945 - loss: 26.3133 - val_accuracy: 0.8723 - val_loss: 22.6094\n",
            "Epoch 7/50\n",
            "\u001b[1m28/28\u001b[0m \u001b[32m━━━━━━━━━━━━━━━━━━━━\u001b[0m\u001b[37m\u001b[0m \u001b[1m0s\u001b[0m 4ms/step - accuracy: 0.8417 - loss: 25.4403 - val_accuracy: 0.8723 - val_loss: 20.0508\n",
            "Epoch 8/50\n",
            "\u001b[1m28/28\u001b[0m \u001b[32m━━━━━━━━━━━━━━━━━━━━\u001b[0m\u001b[37m\u001b[0m \u001b[1m0s\u001b[0m 4ms/step - accuracy: 0.8613 - loss: 21.6413 - val_accuracy: 0.8723 - val_loss: 18.5085\n",
            "Epoch 9/50\n",
            "\u001b[1m28/28\u001b[0m \u001b[32m━━━━━━━━━━━━━━━━━━━━\u001b[0m\u001b[37m\u001b[0m \u001b[1m0s\u001b[0m 5ms/step - accuracy: 0.8413 - loss: 18.3554 - val_accuracy: 0.8830 - val_loss: 17.1532\n",
            "Epoch 10/50\n",
            "\u001b[1m28/28\u001b[0m \u001b[32m━━━━━━━━━━━━━━━━━━━━\u001b[0m\u001b[37m\u001b[0m \u001b[1m0s\u001b[0m 4ms/step - accuracy: 0.8477 - loss: 19.1620 - val_accuracy: 0.8830 - val_loss: 16.2608\n",
            "Epoch 11/50\n",
            "\u001b[1m28/28\u001b[0m \u001b[32m━━━━━━━━━━━━━━━━━━━━\u001b[0m\u001b[37m\u001b[0m \u001b[1m0s\u001b[0m 4ms/step - accuracy: 0.8514 - loss: 16.1975 - val_accuracy: 0.8723 - val_loss: 15.0129\n",
            "Epoch 12/50\n",
            "\u001b[1m28/28\u001b[0m \u001b[32m━━━━━━━━━━━━━━━━━━━━\u001b[0m\u001b[37m\u001b[0m \u001b[1m0s\u001b[0m 3ms/step - accuracy: 0.8423 - loss: 16.2955 - val_accuracy: 0.8723 - val_loss: 14.9881\n",
            "Epoch 13/50\n",
            "\u001b[1m28/28\u001b[0m \u001b[32m━━━━━━━━━━━━━━━━━━━━\u001b[0m\u001b[37m\u001b[0m \u001b[1m0s\u001b[0m 4ms/step - accuracy: 0.8713 - loss: 15.4469 - val_accuracy: 0.8936 - val_loss: 13.9603\n",
            "Epoch 14/50\n",
            "\u001b[1m28/28\u001b[0m \u001b[32m━━━━━━━━━━━━━━━━━━━━\u001b[0m\u001b[37m\u001b[0m \u001b[1m0s\u001b[0m 4ms/step - accuracy: 0.8529 - loss: 15.1245 - val_accuracy: 0.8936 - val_loss: 13.0876\n",
            "Epoch 15/50\n",
            "\u001b[1m28/28\u001b[0m \u001b[32m━━━━━━━━━━━━━━━━━━━━\u001b[0m\u001b[37m\u001b[0m \u001b[1m0s\u001b[0m 4ms/step - accuracy: 0.8741 - loss: 12.6561 - val_accuracy: 0.8936 - val_loss: 12.4461\n",
            "Epoch 16/50\n",
            "\u001b[1m28/28\u001b[0m \u001b[32m━━━━━━━━━━━━━━━━━━━━\u001b[0m\u001b[37m\u001b[0m \u001b[1m0s\u001b[0m 4ms/step - accuracy: 0.8524 - loss: 12.6471 - val_accuracy: 0.8936 - val_loss: 11.9935\n",
            "Epoch 17/50\n",
            "\u001b[1m28/28\u001b[0m \u001b[32m━━━━━━━━━━━━━━━━━━━━\u001b[0m\u001b[37m\u001b[0m \u001b[1m0s\u001b[0m 4ms/step - accuracy: 0.8534 - loss: 13.1581 - val_accuracy: 0.8830 - val_loss: 11.6403\n",
            "Epoch 18/50\n",
            "\u001b[1m28/28\u001b[0m \u001b[32m━━━━━━━━━━━━━━━━━━━━\u001b[0m\u001b[37m\u001b[0m \u001b[1m0s\u001b[0m 4ms/step - accuracy: 0.8670 - loss: 11.9848 - val_accuracy: 0.8723 - val_loss: 11.0997\n",
            "Epoch 19/50\n",
            "\u001b[1m28/28\u001b[0m \u001b[32m━━━━━━━━━━━━━━━━━━━━\u001b[0m\u001b[37m\u001b[0m \u001b[1m0s\u001b[0m 4ms/step - accuracy: 0.8561 - loss: 11.0164 - val_accuracy: 0.8723 - val_loss: 11.0784\n",
            "Epoch 20/50\n",
            "\u001b[1m28/28\u001b[0m \u001b[32m━━━━━━━━━━━━━━━━━━━━\u001b[0m\u001b[37m\u001b[0m \u001b[1m0s\u001b[0m 5ms/step - accuracy: 0.8677 - loss: 10.9795 - val_accuracy: 0.8830 - val_loss: 10.5905\n",
            "Epoch 21/50\n",
            "\u001b[1m28/28\u001b[0m \u001b[32m━━━━━━━━━━━━━━━━━━━━\u001b[0m\u001b[37m\u001b[0m \u001b[1m0s\u001b[0m 4ms/step - accuracy: 0.8622 - loss: 11.2171 - val_accuracy: 0.8723 - val_loss: 9.8602\n",
            "Epoch 22/50\n",
            "\u001b[1m28/28\u001b[0m \u001b[32m━━━━━━━━━━━━━━━━━━━━\u001b[0m\u001b[37m\u001b[0m \u001b[1m0s\u001b[0m 4ms/step - accuracy: 0.8554 - loss: 9.9086 - val_accuracy: 0.8723 - val_loss: 9.6084\n",
            "Epoch 23/50\n",
            "\u001b[1m28/28\u001b[0m \u001b[32m━━━━━━━━━━━━━━━━━━━━\u001b[0m\u001b[37m\u001b[0m \u001b[1m0s\u001b[0m 6ms/step - accuracy: 0.8541 - loss: 9.7027 - val_accuracy: 0.8617 - val_loss: 9.5871\n",
            "Epoch 24/50\n",
            "\u001b[1m28/28\u001b[0m \u001b[32m━━━━━━━━━━━━━━━━━━━━\u001b[0m\u001b[37m\u001b[0m \u001b[1m0s\u001b[0m 5ms/step - accuracy: 0.8730 - loss: 8.9931 - val_accuracy: 0.8617 - val_loss: 9.1120\n",
            "Epoch 25/50\n",
            "\u001b[1m28/28\u001b[0m \u001b[32m━━━━━━━━━━━━━━━━━━━━\u001b[0m\u001b[37m\u001b[0m \u001b[1m0s\u001b[0m 4ms/step - accuracy: 0.8771 - loss: 8.9586 - val_accuracy: 0.8617 - val_loss: 8.7334\n",
            "Epoch 26/50\n",
            "\u001b[1m28/28\u001b[0m \u001b[32m━━━━━━━━━━━━━━━━━━━━\u001b[0m\u001b[37m\u001b[0m \u001b[1m0s\u001b[0m 4ms/step - accuracy: 0.8448 - loss: 8.6225 - val_accuracy: 0.8617 - val_loss: 8.7988\n",
            "Epoch 27/50\n",
            "\u001b[1m28/28\u001b[0m \u001b[32m━━━━━━━━━━━━━━━━━━━━\u001b[0m\u001b[37m\u001b[0m \u001b[1m0s\u001b[0m 4ms/step - accuracy: 0.8476 - loss: 8.0333 - val_accuracy: 0.8617 - val_loss: 8.8664\n",
            "Epoch 28/50\n",
            "\u001b[1m28/28\u001b[0m \u001b[32m━━━━━━━━━━━━━━━━━━━━\u001b[0m\u001b[37m\u001b[0m \u001b[1m0s\u001b[0m 7ms/step - accuracy: 0.8479 - loss: 8.7290 - val_accuracy: 0.8723 - val_loss: 8.3664\n",
            "Epoch 29/50\n",
            "\u001b[1m28/28\u001b[0m \u001b[32m━━━━━━━━━━━━━━━━━━━━\u001b[0m\u001b[37m\u001b[0m \u001b[1m0s\u001b[0m 6ms/step - accuracy: 0.8462 - loss: 7.5346 - val_accuracy: 0.8830 - val_loss: 8.1776\n",
            "Epoch 30/50\n",
            "\u001b[1m28/28\u001b[0m \u001b[32m━━━━━━━━━━━━━━━━━━━━\u001b[0m\u001b[37m\u001b[0m \u001b[1m0s\u001b[0m 5ms/step - accuracy: 0.8479 - loss: 8.1513 - val_accuracy: 0.8617 - val_loss: 7.8385\n",
            "Epoch 31/50\n",
            "\u001b[1m28/28\u001b[0m \u001b[32m━━━━━━━━━━━━━━━━━━━━\u001b[0m\u001b[37m\u001b[0m \u001b[1m0s\u001b[0m 5ms/step - accuracy: 0.8442 - loss: 7.6583 - val_accuracy: 0.8723 - val_loss: 8.0597\n",
            "Epoch 32/50\n",
            "\u001b[1m28/28\u001b[0m \u001b[32m━━━━━━━━━━━━━━━━━━━━\u001b[0m\u001b[37m\u001b[0m \u001b[1m0s\u001b[0m 5ms/step - accuracy: 0.8635 - loss: 8.1996 - val_accuracy: 0.8723 - val_loss: 7.7424\n",
            "Epoch 33/50\n",
            "\u001b[1m28/28\u001b[0m \u001b[32m━━━━━━━━━━━━━━━━━━━━\u001b[0m\u001b[37m\u001b[0m \u001b[1m0s\u001b[0m 5ms/step - accuracy: 0.8520 - loss: 7.1756 - val_accuracy: 0.8723 - val_loss: 7.6580\n",
            "Epoch 34/50\n",
            "\u001b[1m28/28\u001b[0m \u001b[32m━━━━━━━━━━━━━━━━━━━━\u001b[0m\u001b[37m\u001b[0m \u001b[1m0s\u001b[0m 5ms/step - accuracy: 0.8678 - loss: 7.8308 - val_accuracy: 0.8723 - val_loss: 7.4737\n",
            "Epoch 35/50\n",
            "\u001b[1m28/28\u001b[0m \u001b[32m━━━━━━━━━━━━━━━━━━━━\u001b[0m\u001b[37m\u001b[0m \u001b[1m0s\u001b[0m 5ms/step - accuracy: 0.8538 - loss: 6.9798 - val_accuracy: 0.8723 - val_loss: 7.3513\n",
            "Epoch 36/50\n",
            "\u001b[1m28/28\u001b[0m \u001b[32m━━━━━━━━━━━━━━━━━━━━\u001b[0m\u001b[37m\u001b[0m \u001b[1m0s\u001b[0m 5ms/step - accuracy: 0.8361 - loss: 6.9512 - val_accuracy: 0.8830 - val_loss: 7.2835\n",
            "Epoch 37/50\n",
            "\u001b[1m28/28\u001b[0m \u001b[32m━━━━━━━━━━━━━━━━━━━━\u001b[0m\u001b[37m\u001b[0m \u001b[1m0s\u001b[0m 5ms/step - accuracy: 0.8725 - loss: 6.3655 - val_accuracy: 0.8830 - val_loss: 7.3092\n",
            "Epoch 38/50\n",
            "\u001b[1m28/28\u001b[0m \u001b[32m━━━━━━━━━━━━━━━━━━━━\u001b[0m\u001b[37m\u001b[0m \u001b[1m0s\u001b[0m 6ms/step - accuracy: 0.8513 - loss: 6.8058 - val_accuracy: 0.8723 - val_loss: 7.4105\n",
            "Epoch 39/50\n",
            "\u001b[1m28/28\u001b[0m \u001b[32m━━━━━━━━━━━━━━━━━━━━\u001b[0m\u001b[37m\u001b[0m \u001b[1m0s\u001b[0m 6ms/step - accuracy: 0.8691 - loss: 7.3064 - val_accuracy: 0.8617 - val_loss: 6.9257\n",
            "Epoch 40/50\n",
            "\u001b[1m28/28\u001b[0m \u001b[32m━━━━━━━━━━━━━━━━━━━━\u001b[0m\u001b[37m\u001b[0m \u001b[1m0s\u001b[0m 5ms/step - accuracy: 0.8568 - loss: 7.1102 - val_accuracy: 0.8723 - val_loss: 7.1274\n",
            "Epoch 41/50\n",
            "\u001b[1m28/28\u001b[0m \u001b[32m━━━━━━━━━━━━━━━━━━━━\u001b[0m\u001b[37m\u001b[0m \u001b[1m0s\u001b[0m 5ms/step - accuracy: 0.8487 - loss: 6.5428 - val_accuracy: 0.8723 - val_loss: 6.8729\n",
            "Epoch 42/50\n",
            "\u001b[1m28/28\u001b[0m \u001b[32m━━━━━━━━━━━━━━━━━━━━\u001b[0m\u001b[37m\u001b[0m \u001b[1m0s\u001b[0m 5ms/step - accuracy: 0.8600 - loss: 6.5488 - val_accuracy: 0.8617 - val_loss: 7.0175\n",
            "Epoch 43/50\n",
            "\u001b[1m28/28\u001b[0m \u001b[32m━━━━━━━━━━━━━━━━━━━━\u001b[0m\u001b[37m\u001b[0m \u001b[1m0s\u001b[0m 5ms/step - accuracy: 0.8735 - loss: 6.3307 - val_accuracy: 0.8617 - val_loss: 6.8759\n",
            "Epoch 44/50\n",
            "\u001b[1m28/28\u001b[0m \u001b[32m━━━━━━━━━━━━━━━━━━━━\u001b[0m\u001b[37m\u001b[0m \u001b[1m0s\u001b[0m 4ms/step - accuracy: 0.8540 - loss: 6.2034 - val_accuracy: 0.8617 - val_loss: 6.7456\n",
            "Epoch 45/50\n",
            "\u001b[1m28/28\u001b[0m \u001b[32m━━━━━━━━━━━━━━━━━━━━\u001b[0m\u001b[37m\u001b[0m \u001b[1m0s\u001b[0m 5ms/step - accuracy: 0.8667 - loss: 6.1856 - val_accuracy: 0.8617 - val_loss: 6.3932\n",
            "Epoch 46/50\n",
            "\u001b[1m28/28\u001b[0m \u001b[32m━━━━━━━━━━━━━━━━━━━━\u001b[0m\u001b[37m\u001b[0m \u001b[1m0s\u001b[0m 4ms/step - accuracy: 0.8794 - loss: 6.6171 - val_accuracy: 0.8511 - val_loss: 6.5806\n",
            "Epoch 47/50\n",
            "\u001b[1m28/28\u001b[0m \u001b[32m━━━━━━━━━━━━━━━━━━━━\u001b[0m\u001b[37m\u001b[0m \u001b[1m0s\u001b[0m 6ms/step - accuracy: 0.8740 - loss: 6.0307 - val_accuracy: 0.8617 - val_loss: 6.8719\n",
            "Epoch 48/50\n",
            "\u001b[1m28/28\u001b[0m \u001b[32m━━━━━━━━━━━━━━━━━━━━\u001b[0m\u001b[37m\u001b[0m \u001b[1m0s\u001b[0m 5ms/step - accuracy: 0.8496 - loss: 6.3832 - val_accuracy: 0.8511 - val_loss: 6.4047\n",
            "Epoch 49/50\n",
            "\u001b[1m28/28\u001b[0m \u001b[32m━━━━━━━━━━━━━━━━━━━━\u001b[0m\u001b[37m\u001b[0m \u001b[1m0s\u001b[0m 5ms/step - accuracy: 0.8607 - loss: 5.9041 - val_accuracy: 0.8723 - val_loss: 6.4814\n",
            "Epoch 50/50\n",
            "\u001b[1m28/28\u001b[0m \u001b[32m━━━━━━━━━━━━━━━━━━━━\u001b[0m\u001b[37m\u001b[0m \u001b[1m0s\u001b[0m 5ms/step - accuracy: 0.8540 - loss: 5.8219 - val_accuracy: 0.8723 - val_loss: 6.2420\n"
          ]
        }
      ],
      "source": [
        "#train model\n",
        "history = model.fit(X_train, y_train, epochs=50, batch_size=30, validation_split=0.1)"
      ]
    },
    {
      "cell_type": "code",
      "execution_count": 33,
      "metadata": {
        "colab": {
          "base_uri": "https://localhost:8080/"
        },
        "id": "Pv3k-RxMHpVD",
        "outputId": "51643f18-9889-4a4a-e87d-3eecd499c600"
      },
      "outputs": [
        {
          "name": "stdout",
          "output_type": "stream",
          "text": [
            "\u001b[1m8/8\u001b[0m \u001b[32m━━━━━━━━━━━━━━━━━━━━\u001b[0m\u001b[37m\u001b[0m \u001b[1m1s\u001b[0m 11ms/step\n"
          ]
        }
      ],
      "source": [
        "#prediction\n",
        "y_pred = model.predict(X_test)"
      ]
    },
    {
      "cell_type": "code",
      "execution_count": 34,
      "metadata": {
        "colab": {
          "base_uri": "https://localhost:8080/"
        },
        "id": "Jf4RCfueHpVE",
        "outputId": "768b3698-4940-4a2a-ebfd-d9a438cb2658"
      },
      "outputs": [
        {
          "name": "stdout",
          "output_type": "stream",
          "text": [
            "Accuracy: 0.7156755924224854\n"
          ]
        }
      ],
      "source": [
        "from sklearn.metrics import mean_squared_error, mean_absolute_error,r2_score\n",
        "accuracy = r2_score(y_test,y_pred)\n",
        "print(f'Accuracy: {accuracy}')"
      ]
    },
    {
      "cell_type": "code",
      "execution_count": 35,
      "metadata": {
        "id": "a61Bn-e8HpVE"
      },
      "outputs": [],
      "source": [
        "from sklearn.metrics import mean_squared_error, mean_absolute_error,r2_score\n",
        "\n",
        "# Evaluate the model\n",
        "mse_0_9 = mean_squared_error(y_test['Temperature(0.9m)'], y_pred[:, 0])\n",
        "mse_1_8 = mean_squared_error(y_test['Temperature(1.8m)'], y_pred[:, 1])\n",
        "mae_0_9 = mean_absolute_error(y_test['Temperature(0.9m)'], y_pred[:, 0])\n",
        "mae_1_8 = mean_absolute_error(y_test['Temperature(1.8m)'], y_pred[:, 1])\n",
        "r2_0_9 = r2_score(y_test['Temperature(0.9m)'], y_pred[:, 0])\n",
        "r2_1_8 = r2_score(y_test['Temperature(1.8m)'], y_pred[:, 1])"
      ]
    },
    {
      "cell_type": "code",
      "execution_count": 36,
      "metadata": {
        "colab": {
          "base_uri": "https://localhost:8080/"
        },
        "id": "ZL0HfSL2HpVF",
        "outputId": "bfea626d-f2fa-42eb-faaa-34c1916bacfc"
      },
      "outputs": [
        {
          "name": "stdout",
          "output_type": "stream",
          "text": [
            "MSE for Temperature(0.9m): 4.804052736678521\n",
            "MSE for Temperature(1.8m): 6.616039984182423\n",
            "MAE for Temperature(0.9m): 1.624292643512997\n",
            "MAE for Temperature(1.8m): 2.0627045587187114\n",
            "R^2 Score for Temperature(0.9m): 0.8474381201287563\n",
            "R^2 Score for Temperature(1.8m): 0.5839132095606394\n"
          ]
        }
      ],
      "source": [
        "# Print evaluation metrics\n",
        "print(f'MSE for Temperature(0.9m): {mse_0_9}')\n",
        "print(f'MSE for Temperature(1.8m): {mse_1_8}')\n",
        "print(f'MAE for Temperature(0.9m): {mae_0_9}')\n",
        "print(f'MAE for Temperature(1.8m): {mae_1_8}')\n",
        "print(f'R^2 Score for Temperature(0.9m): {r2_0_9}')\n",
        "print(f'R^2 Score for Temperature(1.8m): {r2_1_8}')\n"
      ]
    },
    {
      "cell_type": "code",
      "execution_count": 48,
      "metadata": {
        "colab": {
          "base_uri": "https://localhost:8080/",
          "height": 472
        },
        "id": "INTjVYbOHpVF",
        "outputId": "8bbd38dc-30cd-42e3-d1de-24e14187bc91"
      },
      "outputs": [
        {
          "data": {
            "image/png": "[encoded data removed]",
            "text/plain": [
              "<Figure size 640x480 with 1 Axes>"
            ]
          },
          "metadata": {},
          "output_type": "display_data"
        }
      ],
      "source": [
        "#Visualize\n",
        "plt.plot(history.history['accuracy'])\n",
        "plt.plot(history.history['val_accuracy'])\n",
        "plt.title('Model Accuracy')\n",
        "plt.ylabel('Accuracy')\n",
        "plt.xlabel('Epoch')\n",
        "plt.legend(['train','val'],loc='lower right')\n",
        "plt.show()"
      ]
    },
    {
      "cell_type": "code",
      "execution_count": 49,
      "metadata": {
        "colab": {
          "base_uri": "https://localhost:8080/",
          "height": 472
        },
        "id": "NiAwurkmHpVF",
        "outputId": "1c22d53b-3f1f-40e7-afe5-6308719c6361"
      },
      "outputs": [
        {
          "data": {
            "image/png": "[encoded data removed]",
            "text/plain": [
              "<Figure size 640x480 with 1 Axes>"
            ]
          },
          "metadata": {},
          "output_type": "display_data"
        }
      ],
      "source": [
        "#Loss\n",
        "plt.plot(history.history['loss'])\n",
        "plt.plot(history.history['val_loss'])\n",
        "plt.title('Model loss')\n",
        "plt.ylabel('loss')\n",
        "plt.xlabel('Epoch')\n",
        "plt.legend(['train','val'],loc='upper right')\n",
        "plt.show()"
      ]
    },
    {
      "cell_type": "code",
      "execution_count": 39,
      "metadata": {
        "colab": {
          "base_uri": "https://localhost:8080/"
        },
        "id": "52htW_MUHpVG",
        "outputId": "78223e0a-fc51-440c-9023-c5fbadb4e8bf"
      },
      "outputs": [
        {
          "name": "stderr",
          "output_type": "stream",
          "text": [
            "WARNING:absl:You are saving your model as an HDF5 file via `model.save()` or `keras.saving.save_model(model)`. This file format is considered legacy. We recommend using instead the native Keras format, e.g. `model.save('my_model.keras')` or `keras.saving.save_model(model, 'my_model.keras')`. \n"
          ]
        }
      ],
      "source": [
        "import joblib\n",
        "\n",
        "# Save the scaler and model\n",
        "joblib.dump(scaler, 'scaler.pkl')\n",
        "model.save('temperature_predictor.h5')\n"
      ]
    },
    {
      "cell_type": "code",
      "execution_count": 40,
      "metadata": {
        "id": "_EokcJXAHpVG"
      },
      "outputs": [],
      "source": [
        "# Create a function for making predictions\n",
        "def predict_temperature(): #day_of_year, rainfall, air_temp_f, air_temp_c\n",
        "    day_of_year = int(input('Enter the Day_of_year: '))\n",
        "    rainfall = float(input('Enter rainfall(inch): '))\n",
        "    air_temp_f = float(input('Enter the air temp F: '))\n",
        "    air_temp_c = float(input('Enter the air temp C: '))\n",
        "    input_data = np.array([[day_of_year, rainfall, air_temp_f, air_temp_c]])\n",
        "    input_data_scaled = scaler.transform(input_data)\n",
        "    prediction = model.predict(input_data_scaled)\n",
        "    return prediction[0]  # Returns predictions for both temperatures\n"
      ]
    },
    {
      "cell_type": "code",
      "execution_count": 42,
      "metadata": {
        "colab": {
          "base_uri": "https://localhost:8080/"
        },
        "id": "3s0nir4iHpVL",
        "outputId": "3f314ece-1f1b-4c10-e3cf-b01bf05ea868"
      },
      "outputs": [
        {
          "name": "stdout",
          "output_type": "stream",
          "text": [
            "\u001b[1m1/1\u001b[0m \u001b[32m━━━━━━━━━━━━━━━━━━━━\u001b[0m\u001b[37m\u001b[0m \u001b[1m0s\u001b[0m 73ms/step\n",
            "Predicted Temperatures: 0.9m: 21.132858276367188, 1.8m: 20.502931594848633\n"
          ]
        }
      ],
      "source": [
        "\n",
        "# Example usage of the prediction function\n",
        "predicted_temperatures = predict_temperature() #150, 0.5, 75, 24\n",
        "print(f'Predicted Temperatures: 0.9m: {predicted_temperatures[0]}, 1.8m: {predicted_temperatures[1]}')"
      ]
    },
    {
      "cell_type": "code",
      "execution_count": 43,
      "metadata": {
        "colab": {
          "base_uri": "https://localhost:8080/",
          "height": 206
        },
        "id": "amujPp4PLLJQ",
        "outputId": "4a95e46a-c266-4cb7-a108-bbb042fa53a7"
      },
      "outputs": [
        {
          "data": {
            "text/html": [
              "<div>\n",
              "<style scoped>\n",
              "    .dataframe tbody tr th:only-of-type {\n",
              "        vertical-align: middle;\n",
              "    }\n",
              "\n",
              "    .dataframe tbody tr th {\n",
              "        vertical-align: top;\n",
              "    }\n",
              "\n",
              "    .dataframe thead th {\n",
              "        text-align: right;\n",
              "    }\n",
              "</style>\n",
              "<table border=\"1\" class=\"dataframe\">\n",
              "  <thead>\n",
              "    <tr style=\"text-align: right;\">\n",
              "      <th></th>\n",
              "      <th>Date</th>\n",
              "      <th>Rainfall(inch)</th>\n",
              "      <th>Temperature(0.9m)</th>\n",
              "      <th>Temperature(1.8m)</th>\n",
              "      <th>Air Temp F</th>\n",
              "      <th>Air Temp C</th>\n",
              "      <th>day_of_year</th>\n",
              "    </tr>\n",
              "  </thead>\n",
              "  <tbody>\n",
              "    <tr>\n",
              "      <th>0</th>\n",
              "      <td>2016-10-03</td>\n",
              "      <td>0.00</td>\n",
              "      <td>25.567</td>\n",
              "      <td>26.171</td>\n",
              "      <td>75.9</td>\n",
              "      <td>24.388889</td>\n",
              "      <td>277</td>\n",
              "    </tr>\n",
              "    <tr>\n",
              "      <th>1</th>\n",
              "      <td>2016-10-04</td>\n",
              "      <td>0.00</td>\n",
              "      <td>25.713</td>\n",
              "      <td>26.100</td>\n",
              "      <td>78.6</td>\n",
              "      <td>25.888889</td>\n",
              "      <td>278</td>\n",
              "    </tr>\n",
              "    <tr>\n",
              "      <th>2</th>\n",
              "      <td>2016-10-05</td>\n",
              "      <td>0.06</td>\n",
              "      <td>25.946</td>\n",
              "      <td>26.100</td>\n",
              "      <td>82.6</td>\n",
              "      <td>28.111111</td>\n",
              "      <td>279</td>\n",
              "    </tr>\n",
              "    <tr>\n",
              "      <th>3</th>\n",
              "      <td>2016-10-06</td>\n",
              "      <td>0.39</td>\n",
              "      <td>26.446</td>\n",
              "      <td>26.158</td>\n",
              "      <td>82.8</td>\n",
              "      <td>28.222222</td>\n",
              "      <td>280</td>\n",
              "    </tr>\n",
              "    <tr>\n",
              "      <th>4</th>\n",
              "      <td>2016-10-07</td>\n",
              "      <td>0.00</td>\n",
              "      <td>26.663</td>\n",
              "      <td>26.300</td>\n",
              "      <td>72.3</td>\n",
              "      <td>22.388889</td>\n",
              "      <td>281</td>\n",
              "    </tr>\n",
              "  </tbody>\n",
              "</table>\n",
              "</div>"
            ],
            "text/plain": [
              "        Date  Rainfall(inch)  Temperature(0.9m)  Temperature(1.8m)  \\\n",
              "0 2016-10-03            0.00             25.567             26.171   \n",
              "1 2016-10-04            0.00             25.713             26.100   \n",
              "2 2016-10-05            0.06             25.946             26.100   \n",
              "3 2016-10-06            0.39             26.446             26.158   \n",
              "4 2016-10-07            0.00             26.663             26.300   \n",
              "\n",
              "   Air Temp F  Air Temp C  day_of_year  \n",
              "0        75.9   24.388889          277  \n",
              "1        78.6   25.888889          278  \n",
              "2        82.6   28.111111          279  \n",
              "3        82.8   28.222222          280  \n",
              "4        72.3   22.388889          281  "
            ]
          },
          "execution_count": 43,
          "metadata": {},
          "output_type": "execute_result"
        }
      ],
      "source": [
        "data.head()"
      ]
    },
    {
      "cell_type": "code",
      "execution_count": 44,
      "metadata": {
        "colab": {
          "base_uri": "https://localhost:8080/"
        },
        "id": "ylqIcC_XKxhj",
        "outputId": "05b407fd-2d3c-4791-f3f7-fdb8520a63e4"
      },
      "outputs": [
        {
          "name": "stdout",
          "output_type": "stream",
          "text": [
            "\u001b[1m1/1\u001b[0m \u001b[32m━━━━━━━━━━━━━━━━━━━━\u001b[0m\u001b[37m\u001b[0m \u001b[1m0s\u001b[0m 115ms/step\n",
            "Predicted Temperatures: 0.9m: 14.628252983093262, 1.8m: 20.939781188964844\n"
          ]
        }
      ],
      "source": [
        "def predict_temperature(day_of_year, rainfall, air_temp_f, air_temp_c): #\n",
        "    input_data = np.array([[day_of_year, rainfall, air_temp_f, air_temp_c]])\n",
        "    input_data_scaled = scaler.transform(input_data)\n",
        "    prediction = model.predict(input_data_scaled)\n",
        "    return prediction[0]\n",
        "\n",
        "predicted_temperatures = predict_temperature(4.08863690e-01,-2.84033164e-01,1.09078761e+00,1.09078761e+00)\n",
        "print(f'Predicted Temperatures: 0.9m: {predicted_temperatures[0]}, 1.8m: {predicted_temperatures[1]}')"
      ]
    },
    {
      "cell_type": "code",
      "execution_count": 45,
      "metadata": {
        "colab": {
          "base_uri": "https://localhost:8080/"
        },
        "id": "s3vppdq2KnLh",
        "outputId": "721ad98b-392a-4788-d0bd-bab52f4ded87"
      },
      "outputs": [
        {
          "data": {
            "text/plain": [
              "array([[ 9.83360577e-01,  9.26213113e-01, -7.90109679e-02,\n",
              "        -7.90109680e-02],\n",
              "       [-1.64425633e+00, -2.84033164e-01, -1.22365259e+00,\n",
              "        -1.22365259e+00],\n",
              "       [-9.75579626e-01, -2.84033164e-01, -5.00390025e-01,\n",
              "        -5.00390025e-01],\n",
              "       [-1.05092348e+00, -2.47359034e-01, -2.73977398e-01,\n",
              "        -2.73977397e-01],\n",
              "       [ 7.19657088e-01, -1.74010775e-01,  2.98343412e-01,\n",
              "         2.98343412e-01],\n",
              "       [ 2.48758001e-01, -2.84033164e-01,  9.14688899e-01,\n",
              "         9.14688899e-01],\n",
              "       [ 1.45425966e+00, -2.84033164e-01, -1.07900007e+00,\n",
              "        -1.07900007e+00],\n",
              "       [-9.19071736e-01,  1.43965093e+00, -9.78786869e-02,\n",
              "        -9.78786874e-02],\n",
              "       [-1.19219321e+00, -2.84033164e-01, -4.75647696e-02,\n",
              "        -4.75647694e-02],\n",
              "       [-2.03305123e-01, -2.84033164e-01,  9.65002817e-01,\n",
              "         9.65002816e-01],\n",
              "       [ 1.35066186e+00, -2.84033164e-01, -7.51959612e-01,\n",
              "        -7.51959612e-01],\n",
              "       [ 9.45688650e-01, -2.84033164e-01,  2.60607974e-01,\n",
              "         2.60607974e-01],\n",
              "       [ 3.99445709e-01, -2.84033164e-01,  1.16625849e+00,\n",
              "         1.16625849e+00],\n",
              "       [-4.95262557e-01, -2.10684904e-01,  7.19722470e-01,\n",
              "         7.19722470e-01],\n",
              "       [-5.32934484e-01, -2.84033164e-01,  7.07143990e-01,\n",
              "         7.07143991e-01],\n",
              "       [ 1.01161452e+00, -2.84033164e-01,  3.10921891e-01,\n",
              "         3.10921892e-01],\n",
              "       [-5.80024393e-01, -2.84033164e-01,  6.06516156e-01,\n",
              "         6.06516156e-01],\n",
              "       [-2.88066959e-01, -2.84033164e-01,  3.54946569e-01,\n",
              "         3.54946569e-01],\n",
              "       [-6.93040174e-01, -1.37336645e-01,  7.63747147e-01,\n",
              "         7.63747148e-01],\n",
              "       [ 1.25648205e+00, -2.84033164e-01, -6.89067215e-01,\n",
              "        -6.89067216e-01],\n",
              "       [-4.48172649e-01, -2.84033164e-01,  8.83242701e-01,\n",
              "         8.83242701e-01],\n",
              "       [-1.11684935e+00, -2.84033164e-01, -8.52587447e-01,\n",
              "        -8.52587447e-01],\n",
              "       [ 1.10579434e+00,  1.51299919e+00, -6.01432489e-02,\n",
              "        -6.01432486e-02],\n",
              "       [-5.23516502e-01,  4.12775299e-01,  6.25383875e-01,\n",
              "         6.25383874e-01],\n",
              "       [-3.72828795e-01,  9.26213113e-01,  4.17838966e-01,\n",
              "         4.17838966e-01],\n",
              "       [-1.16393926e+00,  8.27081323e-02,  2.16168668e-02,\n",
              "         2.16168668e-02],\n",
              "       [ 2.77011946e-01, -2.84033164e-01,  1.43040655e+00,\n",
              "         1.43040655e+00],\n",
              "       [-1.33346293e+00, -2.84033164e-01, -2.92845117e-01,\n",
              "        -2.92845117e-01],\n",
              "       [-8.81399809e-01, -2.84033164e-01,  2.85764933e-01,\n",
              "         2.85764932e-01],\n",
              "       [ 1.01161452e+00, -2.84033164e-01, -1.92217282e-01,\n",
              "        -1.92217282e-01],\n",
              "       [ 1.34124388e+00, -2.84033164e-01, -8.58876686e-01,\n",
              "        -8.58876687e-01],\n",
              "       [ 9.55106632e-01, -2.84033164e-01,  7.19307841e-02,\n",
              "         7.19307836e-02],\n",
              "       [-4.76426594e-01,  4.60340027e-02,  1.78847858e-01,\n",
              "         1.78847859e-01],\n",
              "       [-1.01325155e+00, -2.84033164e-01, -9.78786869e-02,\n",
              "        -9.78786874e-02],\n",
              "       [-2.97484941e-01, -2.84033164e-01,  5.93937676e-01,\n",
              "         5.93937677e-01],\n",
              "       [-1.80436202e+00,  2.94329024e+00, -1.67018860e+00,\n",
              "        -1.67018860e+00],\n",
              "       [-1.06975944e+00, -2.84033164e-01,  4.80731362e-01,\n",
              "         4.80731363e-01],\n",
              "       [-7.87219991e-01, -2.84033164e-01,  3.04632652e-01,\n",
              "         3.04632652e-01],\n",
              "       [-4.29336685e-01, -2.84033164e-01,  8.32928784e-01,\n",
              "         8.32928784e-01],\n",
              "       [ 6.44313234e-01, -2.84033164e-01,  1.00902749e+00,\n",
              "         1.00902749e+00],\n",
              "       [-1.27695504e+00, -2.84033164e-01, -7.95984290e-01,\n",
              "        -7.95984290e-01],\n",
              "       [ 3.71191763e-01, -2.84033164e-01,  1.34235720e+00,\n",
              "         1.34235720e+00],\n",
              "       [ 9.26852686e-01, -2.84033164e-01, -1.29324885e-01,\n",
              "        -1.29324885e-01],\n",
              "       [ 3.52355800e-01, -2.84033164e-01,  9.14688899e-01,\n",
              "         9.14688899e-01],\n",
              "       [ 1.31298994e+00,  2.66078780e-01, -1.30541270e+00,\n",
              "        -1.30541270e+00],\n",
              "       [ 1.73414147e-01, -2.84033164e-01,  1.38009263e+00,\n",
              "         1.38009263e+00],\n",
              "       [-1.10743137e+00, -2.84033164e-01, -1.09157855e+00,\n",
              "        -1.09157855e+00],\n",
              "       [-5.04680539e-01, -2.84033164e-01,  5.49912999e-01,\n",
              "         5.49912999e-01],\n",
              "       [-1.69134624e+00, -2.84033164e-01, -1.73937024e+00,\n",
              "        -1.73937024e+00],\n",
              "       [-1.75051178e-01, -1.00662516e-01,  1.15368001e+00,\n",
              "         1.15368001e+00],\n",
              "       [ 7.29075070e-01, -2.84033164e-01,  8.89531941e-01,\n",
              "         8.89531941e-01],\n",
              "       [-6.08278338e-01, -2.84033164e-01,  7.88904106e-01,\n",
              "         7.88904106e-01],\n",
              "       [ 1.51076755e+00, -1.74010775e-01, -8.58876686e-01,\n",
              "        -8.58876687e-01],\n",
              "       [-2.97484941e-01, -2.84033164e-01,  1.15996925e+00,\n",
              "         1.15996925e+00],\n",
              "       [-7.14533787e-02, -1.00662516e-01,  9.14688899e-01,\n",
              "         9.14688899e-01],\n",
              "       [-1.78552606e+00, -2.84033164e-01, -1.92804743e+00,\n",
              "        -1.92804743e+00],\n",
              "       [ 6.63149197e-01, -2.84033164e-01,  1.17254773e+00,\n",
              "         1.17254773e+00],\n",
              "       [-1.62542037e+00, -2.84033164e-01, -4.75233067e-01,\n",
              "        -4.75233067e-01],\n",
              "       [-2.03305123e-01, -2.84033164e-01,  1.19141544e+00,\n",
              "         1.19141544e+00],\n",
              "       [-5.98860356e-01, -2.84033164e-01,  4.24128205e-01,\n",
              "         4.24128206e-01],\n",
              "       [ 1.36007985e+00, -2.84033164e-01, -7.06119084e-04,\n",
              "        -7.06119079e-04],\n",
              "       [ 7.38493051e-01, -2.84033164e-01,  1.07191989e+00,\n",
              "         1.07191989e+00],\n",
              "       [-8.62563845e-01, -2.84033164e-01,  5.30630651e-02,\n",
              "         5.30630653e-02],\n",
              "       [-8.43727882e-01, -2.84033164e-01,  1.97715577e-01,\n",
              "         1.97715578e-01],\n",
              "       [ 5.68969380e-01, -6.39883861e-02,  3.17211131e-01,\n",
              "         3.17211131e-01],\n",
              "       [ 1.53902150e+00, -2.84033164e-01, -1.04755388e+00,\n",
              "        -1.04755388e+00],\n",
              "       [ 4.65371581e-01, -2.84033164e-01,  7.38590189e-01,\n",
              "         7.38590188e-01],\n",
              "       [-7.58966046e-01, -2.84033164e-01, -5.94728620e-01,\n",
              "        -5.94728620e-01],\n",
              "       [ 4.46535617e-01, -2.84033164e-01,  9.46135098e-01,\n",
              "         9.46135098e-01],\n",
              "       [ 9.80702927e-02, -2.84033164e-01,  1.78889321e+00,\n",
              "         1.78889321e+00],\n",
              "       [-7.40130083e-01, -2.84033164e-01, -1.92217282e-01,\n",
              "        -1.92217282e-01],\n",
              "       [ 1.20939214e+00, -2.84033164e-01,  8.45092634e-02,\n",
              "         8.45092639e-02],\n",
              "       [ 1.61436535e+00,  8.89538983e-01, -1.85257655e+00,\n",
              "        -1.85257655e+00],\n",
              "       [ 1.52018554e+00, -2.84033164e-01, -8.77744405e-01,\n",
              "        -8.77744405e-01],\n",
              "       [-6.74204210e-01, -2.84033164e-01, -2.67688158e-01,\n",
              "        -2.67688158e-01],\n",
              "       [ 1.60494737e+00, -2.84033164e-01,  1.53276271e-02,\n",
              "         1.53276266e-02],\n",
              "       [-1.74785413e+00, -2.10684904e-01, -8.14852009e-01,\n",
              "        -8.14852009e-01],\n",
              "       [ 1.36949783e+00, -2.84033164e-01,  1.66269379e-01,\n",
              "         1.66269379e-01],\n",
              "       [ 1.32240792e+00, -2.84033164e-01, -2.92845117e-01,\n",
              "        -2.92845117e-01],\n",
              "       [ 1.23764608e+00, -2.84033164e-01, -9.65793761e-01,\n",
              "        -9.65793761e-01],\n",
              "       [ 1.27531801e+00, -2.84033164e-01, -4.37497629e-01,\n",
              "        -4.37497629e-01],\n",
              "       [ 1.39775177e+00, -2.84033164e-01, -1.49408989e+00,\n",
              "        -1.49408989e+00],\n",
              "       [-1.57833046e+00, -2.84033164e-01, -1.15447095e+00,\n",
              "        -1.15447095e+00],\n",
              "       [-1.02266953e+00, -2.84033164e-01, -8.53002076e-02,\n",
              "        -8.53002070e-02],\n",
              "       [-3.37814517e-02, -2.84033164e-01,  1.17883697e+00,\n",
              "         1.17883697e+00],\n",
              "       [-1.18543287e-01, -2.84033164e-01,  1.34864644e+00,\n",
              "         1.34864644e+00],\n",
              "       [ 6.91403143e-01, -2.84033164e-01,  9.71292056e-01,\n",
              "         9.71292056e-01],\n",
              "       [ 1.32240792e+00, -2.84033164e-01, -4.24919150e-01,\n",
              "        -4.24919149e-01],\n",
              "       [-1.05092348e+00, -2.84033164e-01,  3.67525048e-01,\n",
              "         3.67525049e-01],\n",
              "       [-1.44647871e+00,  2.29404651e-01, -2.33055877e+00,\n",
              "        -2.33055877e+00],\n",
              "       [-6.83622192e-01, -2.84033164e-01, -6.32464058e-01,\n",
              "        -6.32464059e-01],\n",
              "       [-9.19071736e-01, -6.39883861e-02, -5.44414703e-01,\n",
              "        -5.44414703e-01],\n",
              "       [-3.53992831e-01,  1.92730521e-01,  5.68780718e-01,\n",
              "         5.68780717e-01],\n",
              "       [ 2.39340019e-01, -2.84033164e-01,  1.36751416e+00,\n",
              "         1.36751416e+00],\n",
              "       [ 1.32240792e+00, -2.84033164e-01, -3.54009190e-03,\n",
              "        -3.54009164e-03],\n",
              "       [ 1.54843948e+00, -2.84033164e-01, -1.19220639e+00,\n",
              "        -1.19220639e+00],\n",
              "       [-1.70076422e+00, -2.73142565e-02,  1.22244701e-01,\n",
              "         1.22244702e-01],\n",
              "       [ 1.16906256e-01, -2.84033164e-01,  8.26639544e-01,\n",
              "         8.26639544e-01],\n",
              "       [ 1.14346627e+00, -1.37336645e-01, -4.68943827e-01,\n",
              "        -4.68943827e-01],\n",
              "       [ 5.68969380e-01, -2.84033164e-01,  4.49285164e-01,\n",
              "         4.49285164e-01],\n",
              "       [ 1.40716976e+00, -2.84033164e-01, -7.06119084e-04,\n",
              "        -7.06119079e-04],\n",
              "       [-5.89442375e-01, -2.84033164e-01,  6.12805395e-01,\n",
              "         6.12805395e-01],\n",
              "       [-1.25811908e+00,  3.39427039e-01, -1.48192604e-01,\n",
              "        -1.48192604e-01],\n",
              "       [-4.57590630e-01, -2.84033164e-01, -7.90109679e-02,\n",
              "        -7.90109680e-02],\n",
              "       [ 1.63996165e-01, -2.84033164e-01,  1.45556351e+00,\n",
              "         1.45556351e+00],\n",
              "       [-1.22044715e+00, -2.84033164e-01, -2.56954988e+00,\n",
              "        -2.56954988e+00],\n",
              "       [ 5.12461490e-01, -2.84033164e-01,  7.88904106e-01,\n",
              "         7.88904106e-01],\n",
              "       [ 1.54578183e-01, -2.84033164e-01,  1.44927427e+00,\n",
              "         1.44927427e+00],\n",
              "       [-6.20353969e-02, -6.39883861e-02,  1.09707685e+00,\n",
              "         1.09707685e+00],\n",
              "       [-1.56215214e-01, -2.84033164e-01,  6.75697792e-01,\n",
              "         6.75697792e-01],\n",
              "       [-1.01325155e+00,  1.58634745e+00,  4.30417445e-01,\n",
              "         4.30417445e-01],\n",
              "       [-1.58774844e+00, -2.84033164e-01, -3.74605232e-01,\n",
              "        -3.74605232e-01],\n",
              "       [ 7.92343293e-02, -2.84033164e-01,  1.36751416e+00,\n",
              "         1.36751416e+00],\n",
              "       [-1.47473266e+00,  5.59471817e-01, -2.04754298e+00,\n",
              "        -2.04754298e+00],\n",
              "       [-1.47473266e+00, -2.84033164e-01,  1.34823181e-01,\n",
              "         1.34823181e-01],\n",
              "       [ 2.29922037e-01, -2.84033164e-01,  1.11594457e+00,\n",
              "         1.11594457e+00],\n",
              "       [ 1.00219654e+00, -2.84033164e-01, -5.56993182e-01,\n",
              "        -5.56993182e-01],\n",
              "       [ 1.38833379e+00, -2.84033164e-01, -1.24252031e+00,\n",
              "        -1.24252031e+00],\n",
              "       [ 1.07754039e+00,  1.47632506e+00, -3.30580555e-01,\n",
              "        -3.30580554e-01],\n",
              "       [ 6.98163475e-02, -2.84033164e-01,  1.30462176e+00,\n",
              "         1.30462176e+00],\n",
              "       [-1.77610807e+00, -2.84033164e-01, -1.98465059e+00,\n",
              "        -1.98465059e+00],\n",
              "       [-7.49548064e-01, -2.84033164e-01, -3.24291315e-01,\n",
              "        -3.24291315e-01],\n",
              "       [ 1.46367765e+00, -2.10684904e-01, -1.41232978e+00,\n",
              "        -1.41232978e+00],\n",
              "       [-4.31994334e-02, -2.84033164e-01,  1.07191989e+00,\n",
              "         1.07191989e+00],\n",
              "       [-1.44647871e+00, -2.84033164e-01, -3.55737513e-01,\n",
              "        -3.55737513e-01],\n",
              "       [-1.73843615e+00, -2.84033164e-01, -1.02868616e+00,\n",
              "        -1.02868616e+00],\n",
              "       [-4.01082740e-01, -2.84033164e-01,  4.42995924e-01,\n",
              "         4.42995924e-01],\n",
              "       [-1.43706073e+00,  3.02752910e-01, -1.97836135e+00,\n",
              "        -1.97836135e+00],\n",
              "       [-1.74785413e+00, -2.84033164e-01, -2.82740870e+00,\n",
              "        -2.82740870e+00],\n",
              "       [ 1.34124388e+00, -2.84033164e-01, -1.60771084e-01,\n",
              "        -1.60771083e-01],\n",
              "       [ 1.08695838e+00, -2.84033164e-01,  2.54318734e-01,\n",
              "         2.54318735e-01],\n",
              "       [-9.94415590e-01, -2.84033164e-01, -4.37497629e-01,\n",
              "        -4.37497629e-01],\n",
              "       [ 1.30357196e+00,  9.26213113e-01, -1.00981844e+00,\n",
              "        -1.00981844e+00],\n",
              "       [ 4.15624023e-02, -2.84033164e-01,  1.15368001e+00,\n",
              "         1.15368001e+00],\n",
              "       [ 2.58175982e-01, -2.84033164e-01,  8.01482585e-01,\n",
              "         8.01482585e-01],\n",
              "       [-1.57833046e+00, -2.84033164e-01, -1.62616393e+00,\n",
              "        -1.62616393e+00],\n",
              "       [-8.06055955e-01, -2.84033164e-01,  2.35451015e-01,\n",
              "         2.35451016e-01],\n",
              "       [-1.69134624e+00, -2.84033164e-01, -2.05383222e+00,\n",
              "        -2.05383222e+00],\n",
              "       [ 1.62378334e+00, -2.84033164e-01, -1.19220639e+00,\n",
              "        -1.19220639e+00],\n",
              "       [-7.02458156e-01, -2.84033164e-01,  9.07985031e-02,\n",
              "         9.07985030e-02],\n",
              "       [-8.81399809e-01, -2.84033164e-01, -7.70827331e-01,\n",
              "        -7.70827331e-01],\n",
              "       [ 1.51076755e+00, -2.47359034e-01, -8.08562769e-01,\n",
              "        -8.08562769e-01],\n",
              "       [-2.31559068e-01, -2.84033164e-01,  3.86392767e-01,\n",
              "         3.86392767e-01],\n",
              "       [-9.47325681e-01, -2.84033164e-01, -7.58248852e-01,\n",
              "        -7.58248852e-01],\n",
              "       [ 1.26590003e+00, -2.84033164e-01, -4.18629910e-01,\n",
              "        -4.18629910e-01],\n",
              "       [ 1.03986847e+00, -2.84033164e-01,  4.11549726e-01,\n",
              "         4.11549726e-01],\n",
              "       [-7.11876137e-01,  1.92730521e-01,  3.10921891e-01,\n",
              "         3.10921892e-01],\n",
              "       [ 1.27531801e+00, -2.84033164e-01, -6.19885579e-01,\n",
              "        -6.19885580e-01],\n",
              "       [ 1.36949783e+00, -2.84033164e-01, -7.06119084e-04,\n",
              "        -7.06119079e-04],\n",
              "       [ 6.72567179e-01, -2.84033164e-01,  9.71292056e-01,\n",
              "         9.71292056e-01],\n",
              "       [ 8.89180759e-01,  1.29295441e+00, -3.54009190e-03,\n",
              "        -3.54009164e-03],\n",
              "       [ 1.35066186e+00, -2.84033164e-01, -1.29324885e-01,\n",
              "        -1.29324885e-01],\n",
              "       [ 2.95847909e-01, -2.84033164e-01,  5.81359197e-01,\n",
              "         5.81359197e-01],\n",
              "       [-1.18277522e+00, -2.84033164e-01, -5.31836224e-01,\n",
              "        -5.31836224e-01],\n",
              "       [ 1.35066186e+00, -2.84033164e-01, -1.04755388e+00,\n",
              "        -1.04755388e+00],\n",
              "       [ 1.01161452e+00, -2.10684904e-01, -4.24919150e-01,\n",
              "        -4.24919149e-01],\n",
              "       [ 5.40715435e-01,  5.96145947e-01,  7.88904106e-01,\n",
              "         7.88904106e-01],\n",
              "       [-3.91664758e-01, -2.84033164e-01,  7.82614866e-01,\n",
              "         7.82614866e-01],\n",
              "       [-1.65633196e-01, -2.84033164e-01,  4.99599081e-01,\n",
              "         4.99599081e-01],\n",
              "       [ 6.98163475e-02, -2.84033164e-01,  1.75744701e+00,\n",
              "         1.75744701e+00],\n",
              "       [-1.12626733e+00, -2.84033164e-01, -4.18629910e-01,\n",
              "        -4.18629910e-01],\n",
              "       [-3.63410813e-01,  3.39427039e-01,  2.48029495e-01,\n",
              "         2.48029495e-01],\n",
              "       [ 1.23764608e+00,  1.19382262e-01, -1.10457166e-01,\n",
              "        -1.10457167e-01],\n",
              "       [-9.56743663e-01, -2.84033164e-01, -5.38540092e-02,\n",
              "        -5.38540096e-02],\n",
              "       [-4.57590630e-01, -2.84033164e-01,  9.46135098e-01,\n",
              "         9.46135098e-01],\n",
              "       [-1.16393926e+00, -2.84033164e-01,  1.22244701e-01,\n",
              "         1.22244702e-01],\n",
              "       [-5.23516502e-01, -2.84033164e-01,  7.88904106e-01,\n",
              "         7.88904106e-01],\n",
              "       [-1.53124055e+00, -2.84033164e-01, -1.60729621e+00,\n",
              "        -1.60729621e+00],\n",
              "       [-1.20161119e+00, -2.84033164e-01, -7.70827331e-01,\n",
              "        -7.70827331e-01],\n",
              "       [ 5.59551398e-01, -2.84033164e-01,  3.36078850e-01,\n",
              "         3.36078850e-01],\n",
              "       [ 7.85582960e-01, -2.84033164e-01,  8.45507263e-01,\n",
              "         8.45507263e-01],\n",
              "       [-7.77802010e-01, -2.84033164e-01,  5.24756040e-01,\n",
              "         5.24756040e-01],\n",
              "       [ 8.13836905e-01, -2.84033164e-01,  1.10965533e+00,\n",
              "         1.10965533e+00],\n",
              "       [-1.11684935e+00, -2.84033164e-01, -3.68315993e-01,\n",
              "        -3.68315992e-01],\n",
              "       [-4.76426594e-01, -2.84033164e-01,  7.19722470e-01,\n",
              "         7.19722470e-01],\n",
              "       [-1.55007651e+00, -2.84033164e-01, -9.97239959e-01,\n",
              "        -9.97239959e-01],\n",
              "       [ 5.50133417e-01, -2.84033164e-01,  1.32977872e+00,\n",
              "         1.32977872e+00],\n",
              "       [-6.74204210e-01,  1.95308874e+00,  5.81359197e-01,\n",
              "         5.81359197e-01],\n",
              "       [-1.71960018e+00, -2.84033164e-01, -1.24252031e+00,\n",
              "        -1.24252031e+00],\n",
              "       [-1.03208752e+00, -1.00662516e-01,  1.34823181e-01,\n",
              "         1.34823181e-01],\n",
              "       [ 1.57669343e+00, -2.84033164e-01,  2.35451015e-01,\n",
              "         2.35451016e-01],\n",
              "       [ 7.66746997e-01, -2.84033164e-01,  6.25383875e-01,\n",
              "         6.25383874e-01],\n",
              "       [-5.42352466e-01, -2.84033164e-01,  7.44879428e-01,\n",
              "         7.44879428e-01],\n",
              "       [-2.78648977e-01, -2.84033164e-01,  4.17838966e-01,\n",
              "         4.17838966e-01],\n",
              "       [-1.18543287e-01, -2.84033164e-01,  1.14739077e+00,\n",
              "         1.14739077e+00],\n",
              "       [-1.55949449e+00, -2.84033164e-01, -1.35572662e+00,\n",
              "        -1.35572662e+00],\n",
              "       [ 8.98598741e-01, -2.84033164e-01,  3.36078850e-01,\n",
              "         3.36078850e-01],\n",
              "       [ 7.47911033e-01, -2.84033164e-01,  1.22244701e-01,\n",
              "         1.22244702e-01],\n",
              "       [ 5.87805344e-01, -2.84033164e-01,  3.80103528e-01,\n",
              "         3.80103528e-01],\n",
              "       [-1.55007651e+00, -2.84033164e-01, -1.02239692e+00,\n",
              "        -1.02239692e+00],\n",
              "       [-1.13568532e+00, -2.84033164e-01, -9.46926042e-01,\n",
              "        -9.46926042e-01],\n",
              "       [-1.59716642e+00, -2.84033164e-01, -1.35572662e+00,\n",
              "        -1.35572662e+00],\n",
              "       [-1.75727211e+00, -2.47359034e-01, -7.39381133e-01,\n",
              "        -7.39381133e-01],\n",
              "       [-6.55368247e-01,  2.66078780e-01,  9.70877428e-02,\n",
              "         9.70877431e-02],\n",
              "       [ 1.51076755e+00, -2.84033164e-01, -2.78338402e+00,\n",
              "        -2.78338402e+00],\n",
              "       [-6.17696320e-01,  3.93349174e+00,  5.24756040e-01,\n",
              "         5.24756040e-01],\n",
              "       [-1.35229890e+00, -2.84033164e-01, -1.23035646e-01,\n",
              "        -1.23035646e-01],\n",
              "       [ 1.73414147e-01, -2.84033164e-01,  1.00273825e+00,\n",
              "         1.00273826e+00],\n",
              "       [-2.43634699e-02, -2.84033164e-01,  1.15368001e+00,\n",
              "         1.15368001e+00],\n",
              "       [ 4.08863690e-01, -2.84033164e-01,  1.09078761e+00,\n",
              "         1.09078761e+00],\n",
              "       [ 1.38833379e+00, -2.47359034e-01, -1.16076019e+00,\n",
              "        -1.16076019e+00],\n",
              "       [-1.32404495e+00, -2.84033164e-01, -3.93472951e-01,\n",
              "        -3.93472952e-01],\n",
              "       [-1.24870110e+00, -2.84033164e-01, -5.31836224e-01,\n",
              "        -5.31836224e-01],\n",
              "       [-6.17696320e-01, -2.84033164e-01,  6.75697792e-01,\n",
              "         6.75697792e-01],\n",
              "       [-6.74204210e-01, -2.84033164e-01,  3.80103528e-01,\n",
              "         3.80103528e-01],\n",
              "       [-1.34288091e+00,  2.13645939e+00, -9.82933156e-03,\n",
              "        -9.82933181e-03],\n",
              "       [ 9.80702927e-02, -2.84033164e-01,  1.38009263e+00,\n",
              "         1.38009263e+00],\n",
              "       [ 1.57669343e+00, -2.84033164e-01, -3.24291315e-01,\n",
              "        -3.24291315e-01],\n",
              "       [-1.46797233e-01, -2.84033164e-01,  1.24172936e+00,\n",
              "         1.24172936e+00],\n",
              "       [-1.63483835e+00, -2.84033164e-01, -1.38717282e+00,\n",
              "        -1.38717282e+00],\n",
              "       [-1.09125306e-01,  2.66078780e-01,  1.16625849e+00,\n",
              "         1.16625849e+00],\n",
              "       [ 1.92250110e-01, -2.84033164e-01,  9.77581296e-01,\n",
              "         9.77581295e-01],\n",
              "       [-6.20353969e-02,  1.47632506e+00,  1.07820913e+00,\n",
              "         1.07820913e+00],\n",
              "       [-4.67008612e-01, -2.84033164e-01,  8.32928784e-01,\n",
              "         8.32928784e-01],\n",
              "       [ 1.19997416e+00, -2.84033164e-01, -1.67060323e-01,\n",
              "        -1.67060324e-01],\n",
              "       [ 1.42600572e+00, -2.84033164e-01, -1.18591715e+00,\n",
              "        -1.18591715e+00],\n",
              "       [-8.08713604e-02, -2.84033164e-01,  8.70664222e-01,\n",
              "         8.70664222e-01],\n",
              "       [ 1.45160201e-01, -2.84033164e-01,  9.27267379e-01,\n",
              "         9.27267379e-01],\n",
              "       [-1.38055284e+00, -2.84033164e-01, -1.25509879e+00,\n",
              "        -1.25509879e+00],\n",
              "       [-1.02266953e+00, -2.84033164e-01,  1.97715577e-01,\n",
              "         1.97715578e-01],\n",
              "       [ 1.20939214e+00, -2.84033164e-01, -8.96612124e-01,\n",
              "        -8.96612124e-01],\n",
              "       [-9.37907699e-01, -2.84033164e-01, -4.62654587e-01,\n",
              "        -4.62654588e-01],\n",
              "       [-9.19071736e-01, -2.84033164e-01, -2.92845117e-01,\n",
              "        -2.92845117e-01],\n",
              "       [ 4.27699654e-01,  1.51299919e+00,  6.25383875e-01,\n",
              "         6.25383874e-01],\n",
              "       [-9.75579626e-01, -2.84033164e-01, -2.61398918e-01,\n",
              "        -2.61398918e-01],\n",
              "       [-3.25738886e-01, -2.84033164e-01,  8.51796503e-01,\n",
              "         8.51796502e-01],\n",
              "       [ 1.19055618e+00, -2.84033164e-01, -1.47522217e+00,\n",
              "        -1.47522217e+00],\n",
              "       [ 1.30357196e+00, -2.84033164e-01, -3.87183712e-01,\n",
              "        -3.87183711e-01],\n",
              "       [ 3.61773782e-01, -2.84033164e-01,  1.42411731e+00,\n",
              "         1.42411731e+00],\n",
              "       [ 1.52960352e+00, -2.84033164e-01, -1.78968416e+00,\n",
              "        -1.78968416e+00],\n",
              "       [-2.50395032e-01, -2.84033164e-01,  1.24172936e+00,\n",
              "         1.24172936e+00],\n",
              "       [ 1.21881012e+00, -2.84033164e-01,  1.09666222e-01,\n",
              "         1.09666222e-01],\n",
              "       [-1.40880679e+00, -1.37336645e-01, -2.11043538e+00,\n",
              "        -2.11043538e+00]])"
            ]
          },
          "execution_count": 45,
          "metadata": {},
          "output_type": "execute_result"
        }
      ],
      "source": [
        "X_test"
      ]
    },
    {
      "cell_type": "code",
      "execution_count": 46,
      "metadata": {
        "colab": {
          "base_uri": "https://localhost:8080/",
          "height": 206
        },
        "id": "yCIY2fVLHpVM",
        "outputId": "59c48dae-b568-4f35-ed7a-c8cf7d49d1b6"
      },
      "outputs": [
        {
          "data": {
            "text/html": [
              "<div>\n",
              "<style scoped>\n",
              "    .dataframe tbody tr th:only-of-type {\n",
              "        vertical-align: middle;\n",
              "    }\n",
              "\n",
              "    .dataframe tbody tr th {\n",
              "        vertical-align: top;\n",
              "    }\n",
              "\n",
              "    .dataframe thead th {\n",
              "        text-align: right;\n",
              "    }\n",
              "</style>\n",
              "<table border=\"1\" class=\"dataframe\">\n",
              "  <thead>\n",
              "    <tr style=\"text-align: right;\">\n",
              "      <th></th>\n",
              "      <th>Date</th>\n",
              "      <th>Rainfall(inch)</th>\n",
              "      <th>Temperature(0.9m)</th>\n",
              "      <th>Temperature(1.8m)</th>\n",
              "      <th>Air Temp F</th>\n",
              "      <th>Air Temp C</th>\n",
              "      <th>day_of_year</th>\n",
              "    </tr>\n",
              "  </thead>\n",
              "  <tbody>\n",
              "    <tr>\n",
              "      <th>0</th>\n",
              "      <td>2016-10-03</td>\n",
              "      <td>0.00</td>\n",
              "      <td>25.567</td>\n",
              "      <td>26.171</td>\n",
              "      <td>75.9</td>\n",
              "      <td>24.388889</td>\n",
              "      <td>277</td>\n",
              "    </tr>\n",
              "    <tr>\n",
              "      <th>1</th>\n",
              "      <td>2016-10-04</td>\n",
              "      <td>0.00</td>\n",
              "      <td>25.713</td>\n",
              "      <td>26.100</td>\n",
              "      <td>78.6</td>\n",
              "      <td>25.888889</td>\n",
              "      <td>278</td>\n",
              "    </tr>\n",
              "    <tr>\n",
              "      <th>2</th>\n",
              "      <td>2016-10-05</td>\n",
              "      <td>0.06</td>\n",
              "      <td>25.946</td>\n",
              "      <td>26.100</td>\n",
              "      <td>82.6</td>\n",
              "      <td>28.111111</td>\n",
              "      <td>279</td>\n",
              "    </tr>\n",
              "    <tr>\n",
              "      <th>3</th>\n",
              "      <td>2016-10-06</td>\n",
              "      <td>0.39</td>\n",
              "      <td>26.446</td>\n",
              "      <td>26.158</td>\n",
              "      <td>82.8</td>\n",
              "      <td>28.222222</td>\n",
              "      <td>280</td>\n",
              "    </tr>\n",
              "    <tr>\n",
              "      <th>4</th>\n",
              "      <td>2016-10-07</td>\n",
              "      <td>0.00</td>\n",
              "      <td>26.663</td>\n",
              "      <td>26.300</td>\n",
              "      <td>72.3</td>\n",
              "      <td>22.388889</td>\n",
              "      <td>281</td>\n",
              "    </tr>\n",
              "  </tbody>\n",
              "</table>\n",
              "</div>"
            ],
            "text/plain": [
              "        Date  Rainfall(inch)  Temperature(0.9m)  Temperature(1.8m)  \\\n",
              "0 2016-10-03            0.00             25.567             26.171   \n",
              "1 2016-10-04            0.00             25.713             26.100   \n",
              "2 2016-10-05            0.06             25.946             26.100   \n",
              "3 2016-10-06            0.39             26.446             26.158   \n",
              "4 2016-10-07            0.00             26.663             26.300   \n",
              "\n",
              "   Air Temp F  Air Temp C  day_of_year  \n",
              "0        75.9   24.388889          277  \n",
              "1        78.6   25.888889          278  \n",
              "2        82.6   28.111111          279  \n",
              "3        82.8   28.222222          280  \n",
              "4        72.3   22.388889          281  "
            ]
          },
          "execution_count": 46,
          "metadata": {},
          "output_type": "execute_result"
        }
      ],
      "source": [
        "data.head()"
      ]
    },
    {
      "cell_type": "code",
      "execution_count": null,
      "metadata": {
        "id": "JuLKtt-ZJQgt"
      },
      "outputs": [],
      "source": []
    }
  ],
  "metadata": {
    "colab": {
      "provenance": []
    },
    "kernelspec": {
      "display_name": "Python 3",
      "language": "python",
      "name": "python3"
    },
    "language_info": {
      "codemirror_mode": {
        "name": "ipython",
        "version": 3
      },
      "file_extension": ".py",
      "mimetype": "text/x-python",
      "name": "python",
      "nbconvert_exporter": "python",
      "pygments_lexer": "ipython3",
      "version": "3.12.0"
    }
  },
  "nbformat": 4,
  "nbformat_minor": 0
}
